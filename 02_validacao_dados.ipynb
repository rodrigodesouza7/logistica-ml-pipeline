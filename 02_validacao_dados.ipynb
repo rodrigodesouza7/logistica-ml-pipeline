{
  "nbformat": 4,
  "nbformat_minor": 0,
  "metadata": {
    "colab": {
      "provenance": []
    },
    "kernelspec": {
      "name": "python3",
      "display_name": "Python 3"
    },
    "language_info": {
      "name": "python"
    }
  },
  "cells": [
    {
      "cell_type": "markdown",
      "source": [
        "🔧 CÉLULA 1 – Setup e Bibliotecas (reutilizável)"
      ],
      "metadata": {
        "id": "hCq5fDlr7IlE"
      }
    },
    {
      "cell_type": "markdown",
      "source": [
        "#### 📚 BIBLIOTECAS PARA VALIDAÇÃO\n",
        "#### Projeto: Dataflow Sentinel – Validação de Dados"
      ],
      "metadata": {
        "id": "ud9chRd87Lz1"
      }
    },
    {
      "cell_type": "code",
      "source": [
        "# Instalar o Pandera (se necessário)\n",
        "!pip install pandera --quiet"
      ],
      "metadata": {
        "colab": {
          "base_uri": "https://localhost:8080/"
        },
        "id": "wmJAd0Nc7a2n",
        "outputId": "908834c9-f35e-4020-93c2-d1e7ee70f4c9"
      },
      "execution_count": null,
      "outputs": [
        {
          "output_type": "stream",
          "name": "stdout",
          "text": [
            "\u001b[?25l   \u001b[90m━━━━━━━━━━━━━━━━━━━━━━━━━━━━━━━━━━━━━━━━\u001b[0m \u001b[32m0.0/267.1 kB\u001b[0m \u001b[31m?\u001b[0m eta \u001b[36m-:--:--\u001b[0m\r\u001b[2K   \u001b[91m━━━━━━━━━━━━━━━━━━━━━━━━━━━━━━━━━━━━━━━\u001b[0m\u001b[91m╸\u001b[0m \u001b[32m266.2/267.1 kB\u001b[0m \u001b[31m8.0 MB/s\u001b[0m eta \u001b[36m0:00:01\u001b[0m\r\u001b[2K   \u001b[90m━━━━━━━━━━━━━━━━━━━━━━━━━━━━━━━━━━━━━━━━\u001b[0m \u001b[32m267.1/267.1 kB\u001b[0m \u001b[31m5.7 MB/s\u001b[0m eta \u001b[36m0:00:00\u001b[0m\n",
            "\u001b[?25h"
          ]
        }
      ]
    },
    {
      "cell_type": "code",
      "source": [
        "# =============================================================\n",
        "# 📚 BIBLIOTECAS PARA VALIDAÇÃO\n",
        "# Projeto: Dataflow Sentinel – Validação de Dados\n",
        "# =============================================================\n",
        "\n",
        "import pandas as pd\n",
        "import logging\n",
        "import os\n",
        "import pandera.pandas as pa\n",
        "from pandera.pandas import Column, DataFrameSchema, Check\n",
        "from pandera import Column, DataFrameSchema, Check\n",
        "\n",
        "# Configuração de logging\n",
        "logging.basicConfig(level=logging.INFO,\n",
        "                    format='[%(levelname)s] %(asctime)s - %(message)s',\n",
        "                    datefmt='%H:%M:%S')\n",
        "logger = logging.getLogger()"
      ],
      "metadata": {
        "id": "zFsyxu_n7Rg6"
      },
      "execution_count": null,
      "outputs": []
    },
    {
      "cell_type": "markdown",
      "source": [
        "📁 CÉLULA 2 – Carregamento dos Dados"
      ],
      "metadata": {
        "id": "QnJk8Epz7slO"
      }
    },
    {
      "cell_type": "markdown",
      "source": [
        "#### 📁 LEITURA DO CSV CARREGADO"
      ],
      "metadata": {
        "id": "5Nzb2UrE7tRP"
      }
    },
    {
      "cell_type": "code",
      "source": [
        "# =============================================================\n",
        "# 📁 LEITURA DO CSV CARREGADO\n",
        "# =============================================================\n",
        "\n",
        "csv_path = '/content/dataflow_sentinel_supplyops.csv'\n",
        "\n",
        "if not os.path.exists(csv_path):\n",
        "    logger.error(f\"Arquivo CSV não encontrado: {csv_path}\")\n",
        "else:\n",
        "    logger.info(f\"Arquivo localizado: {csv_path}\")\n",
        "\n",
        "df = pd.read_csv(csv_path)\n",
        "df.head()"
      ],
      "metadata": {
        "colab": {
          "base_uri": "https://localhost:8080/",
          "height": 204
        },
        "id": "UyDyeN9Q7wgw",
        "outputId": "8f88ec4c-d8a7-404b-a5c0-132eae821229"
      },
      "execution_count": null,
      "outputs": [
        {
          "output_type": "execute_result",
          "data": {
            "text/plain": [
              "  shipment_id route_id        date  delay_minutes  cost_usd  temp_c  \\\n",
              "0    SHP10000     RT02  1998-01-08             12     36.23     7.4   \n",
              "1    SHP10001     RT03  1998-01-09              8     37.28     4.4   \n",
              "2    SHP10002     RT04  1998-01-10              7     31.80     3.1   \n",
              "3    SHP10003     RT04  1998-01-11             12     98.73     5.1   \n",
              "4    SHP10004     RT02  1998-01-12             10     69.52     0.8   \n",
              "\n",
              "       status  \n",
              "0   delivered  \n",
              "1      failed  \n",
              "2  in_transit  \n",
              "3  in_transit  \n",
              "4   delivered  "
            ],
            "text/html": [
              "\n",
              "  <div id=\"df-97f865e9-1561-4d82-93e0-d5fcc25e3891\" class=\"colab-df-container\">\n",
              "    <div>\n",
              "<style scoped>\n",
              "    .dataframe tbody tr th:only-of-type {\n",
              "        vertical-align: middle;\n",
              "    }\n",
              "\n",
              "    .dataframe tbody tr th {\n",
              "        vertical-align: top;\n",
              "    }\n",
              "\n",
              "    .dataframe thead th {\n",
              "        text-align: right;\n",
              "    }\n",
              "</style>\n",
              "<table border=\"1\" class=\"dataframe\">\n",
              "  <thead>\n",
              "    <tr style=\"text-align: right;\">\n",
              "      <th></th>\n",
              "      <th>shipment_id</th>\n",
              "      <th>route_id</th>\n",
              "      <th>date</th>\n",
              "      <th>delay_minutes</th>\n",
              "      <th>cost_usd</th>\n",
              "      <th>temp_c</th>\n",
              "      <th>status</th>\n",
              "    </tr>\n",
              "  </thead>\n",
              "  <tbody>\n",
              "    <tr>\n",
              "      <th>0</th>\n",
              "      <td>SHP10000</td>\n",
              "      <td>RT02</td>\n",
              "      <td>1998-01-08</td>\n",
              "      <td>12</td>\n",
              "      <td>36.23</td>\n",
              "      <td>7.4</td>\n",
              "      <td>delivered</td>\n",
              "    </tr>\n",
              "    <tr>\n",
              "      <th>1</th>\n",
              "      <td>SHP10001</td>\n",
              "      <td>RT03</td>\n",
              "      <td>1998-01-09</td>\n",
              "      <td>8</td>\n",
              "      <td>37.28</td>\n",
              "      <td>4.4</td>\n",
              "      <td>failed</td>\n",
              "    </tr>\n",
              "    <tr>\n",
              "      <th>2</th>\n",
              "      <td>SHP10002</td>\n",
              "      <td>RT04</td>\n",
              "      <td>1998-01-10</td>\n",
              "      <td>7</td>\n",
              "      <td>31.80</td>\n",
              "      <td>3.1</td>\n",
              "      <td>in_transit</td>\n",
              "    </tr>\n",
              "    <tr>\n",
              "      <th>3</th>\n",
              "      <td>SHP10003</td>\n",
              "      <td>RT04</td>\n",
              "      <td>1998-01-11</td>\n",
              "      <td>12</td>\n",
              "      <td>98.73</td>\n",
              "      <td>5.1</td>\n",
              "      <td>in_transit</td>\n",
              "    </tr>\n",
              "    <tr>\n",
              "      <th>4</th>\n",
              "      <td>SHP10004</td>\n",
              "      <td>RT02</td>\n",
              "      <td>1998-01-12</td>\n",
              "      <td>10</td>\n",
              "      <td>69.52</td>\n",
              "      <td>0.8</td>\n",
              "      <td>delivered</td>\n",
              "    </tr>\n",
              "  </tbody>\n",
              "</table>\n",
              "</div>\n",
              "    <div class=\"colab-df-buttons\">\n",
              "\n",
              "  <div class=\"colab-df-container\">\n",
              "    <button class=\"colab-df-convert\" onclick=\"convertToInteractive('df-97f865e9-1561-4d82-93e0-d5fcc25e3891')\"\n",
              "            title=\"Convert this dataframe to an interactive table.\"\n",
              "            style=\"display:none;\">\n",
              "\n",
              "  <svg xmlns=\"http://www.w3.org/2000/svg\" height=\"24px\" viewBox=\"0 -960 960 960\">\n",
              "    <path d=\"M120-120v-720h720v720H120Zm60-500h600v-160H180v160Zm220 220h160v-160H400v160Zm0 220h160v-160H400v160ZM180-400h160v-160H180v160Zm440 0h160v-160H620v160ZM180-180h160v-160H180v160Zm440 0h160v-160H620v160Z\"/>\n",
              "  </svg>\n",
              "    </button>\n",
              "\n",
              "  <style>\n",
              "    .colab-df-container {\n",
              "      display:flex;\n",
              "      gap: 12px;\n",
              "    }\n",
              "\n",
              "    .colab-df-convert {\n",
              "      background-color: #E8F0FE;\n",
              "      border: none;\n",
              "      border-radius: 50%;\n",
              "      cursor: pointer;\n",
              "      display: none;\n",
              "      fill: #1967D2;\n",
              "      height: 32px;\n",
              "      padding: 0 0 0 0;\n",
              "      width: 32px;\n",
              "    }\n",
              "\n",
              "    .colab-df-convert:hover {\n",
              "      background-color: #E2EBFA;\n",
              "      box-shadow: 0px 1px 2px rgba(60, 64, 67, 0.3), 0px 1px 3px 1px rgba(60, 64, 67, 0.15);\n",
              "      fill: #174EA6;\n",
              "    }\n",
              "\n",
              "    .colab-df-buttons div {\n",
              "      margin-bottom: 4px;\n",
              "    }\n",
              "\n",
              "    [theme=dark] .colab-df-convert {\n",
              "      background-color: #3B4455;\n",
              "      fill: #D2E3FC;\n",
              "    }\n",
              "\n",
              "    [theme=dark] .colab-df-convert:hover {\n",
              "      background-color: #434B5C;\n",
              "      box-shadow: 0px 1px 3px 1px rgba(0, 0, 0, 0.15);\n",
              "      filter: drop-shadow(0px 1px 2px rgba(0, 0, 0, 0.3));\n",
              "      fill: #FFFFFF;\n",
              "    }\n",
              "  </style>\n",
              "\n",
              "    <script>\n",
              "      const buttonEl =\n",
              "        document.querySelector('#df-97f865e9-1561-4d82-93e0-d5fcc25e3891 button.colab-df-convert');\n",
              "      buttonEl.style.display =\n",
              "        google.colab.kernel.accessAllowed ? 'block' : 'none';\n",
              "\n",
              "      async function convertToInteractive(key) {\n",
              "        const element = document.querySelector('#df-97f865e9-1561-4d82-93e0-d5fcc25e3891');\n",
              "        const dataTable =\n",
              "          await google.colab.kernel.invokeFunction('convertToInteractive',\n",
              "                                                    [key], {});\n",
              "        if (!dataTable) return;\n",
              "\n",
              "        const docLinkHtml = 'Like what you see? Visit the ' +\n",
              "          '<a target=\"_blank\" href=https://colab.research.google.com/notebooks/data_table.ipynb>data table notebook</a>'\n",
              "          + ' to learn more about interactive tables.';\n",
              "        element.innerHTML = '';\n",
              "        dataTable['output_type'] = 'display_data';\n",
              "        await google.colab.output.renderOutput(dataTable, element);\n",
              "        const docLink = document.createElement('div');\n",
              "        docLink.innerHTML = docLinkHtml;\n",
              "        element.appendChild(docLink);\n",
              "      }\n",
              "    </script>\n",
              "  </div>\n",
              "\n",
              "\n",
              "    <div id=\"df-c2df3524-10a0-460c-a091-b84f6258595c\">\n",
              "      <button class=\"colab-df-quickchart\" onclick=\"quickchart('df-c2df3524-10a0-460c-a091-b84f6258595c')\"\n",
              "                title=\"Suggest charts\"\n",
              "                style=\"display:none;\">\n",
              "\n",
              "<svg xmlns=\"http://www.w3.org/2000/svg\" height=\"24px\"viewBox=\"0 0 24 24\"\n",
              "     width=\"24px\">\n",
              "    <g>\n",
              "        <path d=\"M19 3H5c-1.1 0-2 .9-2 2v14c0 1.1.9 2 2 2h14c1.1 0 2-.9 2-2V5c0-1.1-.9-2-2-2zM9 17H7v-7h2v7zm4 0h-2V7h2v10zm4 0h-2v-4h2v4z\"/>\n",
              "    </g>\n",
              "</svg>\n",
              "      </button>\n",
              "\n",
              "<style>\n",
              "  .colab-df-quickchart {\n",
              "      --bg-color: #E8F0FE;\n",
              "      --fill-color: #1967D2;\n",
              "      --hover-bg-color: #E2EBFA;\n",
              "      --hover-fill-color: #174EA6;\n",
              "      --disabled-fill-color: #AAA;\n",
              "      --disabled-bg-color: #DDD;\n",
              "  }\n",
              "\n",
              "  [theme=dark] .colab-df-quickchart {\n",
              "      --bg-color: #3B4455;\n",
              "      --fill-color: #D2E3FC;\n",
              "      --hover-bg-color: #434B5C;\n",
              "      --hover-fill-color: #FFFFFF;\n",
              "      --disabled-bg-color: #3B4455;\n",
              "      --disabled-fill-color: #666;\n",
              "  }\n",
              "\n",
              "  .colab-df-quickchart {\n",
              "    background-color: var(--bg-color);\n",
              "    border: none;\n",
              "    border-radius: 50%;\n",
              "    cursor: pointer;\n",
              "    display: none;\n",
              "    fill: var(--fill-color);\n",
              "    height: 32px;\n",
              "    padding: 0;\n",
              "    width: 32px;\n",
              "  }\n",
              "\n",
              "  .colab-df-quickchart:hover {\n",
              "    background-color: var(--hover-bg-color);\n",
              "    box-shadow: 0 1px 2px rgba(60, 64, 67, 0.3), 0 1px 3px 1px rgba(60, 64, 67, 0.15);\n",
              "    fill: var(--button-hover-fill-color);\n",
              "  }\n",
              "\n",
              "  .colab-df-quickchart-complete:disabled,\n",
              "  .colab-df-quickchart-complete:disabled:hover {\n",
              "    background-color: var(--disabled-bg-color);\n",
              "    fill: var(--disabled-fill-color);\n",
              "    box-shadow: none;\n",
              "  }\n",
              "\n",
              "  .colab-df-spinner {\n",
              "    border: 2px solid var(--fill-color);\n",
              "    border-color: transparent;\n",
              "    border-bottom-color: var(--fill-color);\n",
              "    animation:\n",
              "      spin 1s steps(1) infinite;\n",
              "  }\n",
              "\n",
              "  @keyframes spin {\n",
              "    0% {\n",
              "      border-color: transparent;\n",
              "      border-bottom-color: var(--fill-color);\n",
              "      border-left-color: var(--fill-color);\n",
              "    }\n",
              "    20% {\n",
              "      border-color: transparent;\n",
              "      border-left-color: var(--fill-color);\n",
              "      border-top-color: var(--fill-color);\n",
              "    }\n",
              "    30% {\n",
              "      border-color: transparent;\n",
              "      border-left-color: var(--fill-color);\n",
              "      border-top-color: var(--fill-color);\n",
              "      border-right-color: var(--fill-color);\n",
              "    }\n",
              "    40% {\n",
              "      border-color: transparent;\n",
              "      border-right-color: var(--fill-color);\n",
              "      border-top-color: var(--fill-color);\n",
              "    }\n",
              "    60% {\n",
              "      border-color: transparent;\n",
              "      border-right-color: var(--fill-color);\n",
              "    }\n",
              "    80% {\n",
              "      border-color: transparent;\n",
              "      border-right-color: var(--fill-color);\n",
              "      border-bottom-color: var(--fill-color);\n",
              "    }\n",
              "    90% {\n",
              "      border-color: transparent;\n",
              "      border-bottom-color: var(--fill-color);\n",
              "    }\n",
              "  }\n",
              "</style>\n",
              "\n",
              "      <script>\n",
              "        async function quickchart(key) {\n",
              "          const quickchartButtonEl =\n",
              "            document.querySelector('#' + key + ' button');\n",
              "          quickchartButtonEl.disabled = true;  // To prevent multiple clicks.\n",
              "          quickchartButtonEl.classList.add('colab-df-spinner');\n",
              "          try {\n",
              "            const charts = await google.colab.kernel.invokeFunction(\n",
              "                'suggestCharts', [key], {});\n",
              "          } catch (error) {\n",
              "            console.error('Error during call to suggestCharts:', error);\n",
              "          }\n",
              "          quickchartButtonEl.classList.remove('colab-df-spinner');\n",
              "          quickchartButtonEl.classList.add('colab-df-quickchart-complete');\n",
              "        }\n",
              "        (() => {\n",
              "          let quickchartButtonEl =\n",
              "            document.querySelector('#df-c2df3524-10a0-460c-a091-b84f6258595c button');\n",
              "          quickchartButtonEl.style.display =\n",
              "            google.colab.kernel.accessAllowed ? 'block' : 'none';\n",
              "        })();\n",
              "      </script>\n",
              "    </div>\n",
              "\n",
              "    </div>\n",
              "  </div>\n"
            ],
            "application/vnd.google.colaboratory.intrinsic+json": {
              "type": "dataframe",
              "variable_name": "df",
              "summary": "{\n  \"name\": \"df\",\n  \"rows\": 10000,\n  \"fields\": [\n    {\n      \"column\": \"shipment_id\",\n      \"properties\": {\n        \"dtype\": \"string\",\n        \"num_unique_values\": 10000,\n        \"samples\": [\n          \"SHP16252\",\n          \"SHP14684\",\n          \"SHP11731\"\n        ],\n        \"semantic_type\": \"\",\n        \"description\": \"\"\n      }\n    },\n    {\n      \"column\": \"route_id\",\n      \"properties\": {\n        \"dtype\": \"category\",\n        \"num_unique_values\": 4,\n        \"samples\": [\n          \"RT03\",\n          \"RT01\",\n          \"RT02\"\n        ],\n        \"semantic_type\": \"\",\n        \"description\": \"\"\n      }\n    },\n    {\n      \"column\": \"date\",\n      \"properties\": {\n        \"dtype\": \"object\",\n        \"num_unique_values\": 10000,\n        \"samples\": [\n          \"2015-02-20\",\n          \"2010-11-05\",\n          \"2002-10-05\"\n        ],\n        \"semantic_type\": \"\",\n        \"description\": \"\"\n      }\n    },\n    {\n      \"column\": \"delay_minutes\",\n      \"properties\": {\n        \"dtype\": \"number\",\n        \"std\": 3,\n        \"min\": 1,\n        \"max\": 24,\n        \"num_unique_values\": 24,\n        \"samples\": [\n          6,\n          3,\n          12\n        ],\n        \"semantic_type\": \"\",\n        \"description\": \"\"\n      }\n    },\n    {\n      \"column\": \"cost_usd\",\n      \"properties\": {\n        \"dtype\": \"number\",\n        \"std\": 20.32391970417068,\n        \"min\": 30.01,\n        \"max\": 100.0,\n        \"num_unique_values\": 5343,\n        \"samples\": [\n          30.23,\n          62.37,\n          87.45\n        ],\n        \"semantic_type\": \"\",\n        \"description\": \"\"\n      }\n    },\n    {\n      \"column\": \"temp_c\",\n      \"properties\": {\n        \"dtype\": \"number\",\n        \"std\": 1.998785814831932,\n        \"min\": -2.9,\n        \"max\": 13.4,\n        \"num_unique_values\": 136,\n        \"samples\": [\n          9.2,\n          5.3,\n          4.8\n        ],\n        \"semantic_type\": \"\",\n        \"description\": \"\"\n      }\n    },\n    {\n      \"column\": \"status\",\n      \"properties\": {\n        \"dtype\": \"category\",\n        \"num_unique_values\": 3,\n        \"samples\": [\n          \"delivered\",\n          \"failed\",\n          \"in_transit\"\n        ],\n        \"semantic_type\": \"\",\n        \"description\": \"\"\n      }\n    }\n  ]\n}"
            }
          },
          "metadata": {},
          "execution_count": 7
        }
      ]
    },
    {
      "cell_type": "markdown",
      "source": [
        "✅ CÉLULA 3 – Schema com Pandera"
      ],
      "metadata": {
        "id": "B7n73Yd57243"
      }
    },
    {
      "cell_type": "markdown",
      "source": [
        "#### 🧩 DEFINIÇÃO DO SCHEMA DE VALIDAÇÃO"
      ],
      "metadata": {
        "id": "3ryVrWv075PV"
      }
    },
    {
      "cell_type": "code",
      "source": [
        "# =============================================================\n",
        "# 🧩 DEFINIÇÃO DO SCHEMA DE VALIDAÇÃO\n",
        "# =============================================================\n",
        "\n",
        "schema = DataFrameSchema({\n",
        "    \"shipment_id\": Column(pa.String, checks=[\n",
        "        Check.str_length(min_value=6),\n",
        "        Check(lambda s: s.str.startswith(\"SHP\"))\n",
        "    ], unique=True),\n",
        "\n",
        "    \"route_id\": Column(pa.String, checks=Check.isin([\"RT01\", \"RT02\", \"RT03\", \"RT04\"])),\n",
        "\n",
        "    \"date\": Column(pa.String),  # datetime será tratado depois\n",
        "\n",
        "    \"delay_minutes\": Column(pa.Int, checks=[\n",
        "        Check.ge(0),\n",
        "        Check.le(240)\n",
        "    ]),\n",
        "\n",
        "    \"cost_usd\": Column(pa.Float, checks=[\n",
        "        Check.ge(0),\n",
        "        Check.le(1000)\n",
        "    ]),\n",
        "\n",
        "    \"temp_c\": Column(pa.Float, checks=[\n",
        "        Check.ge(-30),\n",
        "        Check.le(50)\n",
        "    ]),\n",
        "\n",
        "    \"status\": Column(pa.String, checks=Check.isin([\"delivered\", \"in_transit\", \"failed\"]))\n",
        "})\n"
      ],
      "metadata": {
        "id": "RKF6VuJp78F8"
      },
      "execution_count": null,
      "outputs": []
    },
    {
      "cell_type": "markdown",
      "source": [
        "🧪 CÉLULA 4 – Aplicar Validação"
      ],
      "metadata": {
        "id": "8Pz0imY38pjQ"
      }
    },
    {
      "cell_type": "markdown",
      "source": [
        "#### ✅ EXECUTAR VALIDAÇÃO COM O SCHEMA"
      ],
      "metadata": {
        "id": "i85ODtgk8sQ4"
      }
    },
    {
      "cell_type": "code",
      "source": [
        "# =============================================================\n",
        "# ✅ EXECUTAR VALIDAÇÃO COM O SCHEMA\n",
        "# =============================================================\n",
        "\n",
        "try:\n",
        "    validated_df = schema.validate(df, lazy=True)\n",
        "    logger.info(\"✅ Dados validados com sucesso.\")\n",
        "except pa.errors.SchemaErrors as err:\n",
        "    logger.error(\"❌ Erros na validação de dados.\")\n",
        "    display(err.failure_cases)\n"
      ],
      "metadata": {
        "id": "k2YRFOIE8uWy"
      },
      "execution_count": null,
      "outputs": []
    },
    {
      "cell_type": "markdown",
      "source": [
        "✅ CÉLULA FINAL – Função valida_dados(df) + Exportação"
      ],
      "metadata": {
        "id": "pqHWAtxf9DMK"
      }
    },
    {
      "cell_type": "markdown",
      "source": [
        "#### ✅ FUNÇÃO REUTILIZÁVEL DE VALIDAÇÃO DE DADOS"
      ],
      "metadata": {
        "id": "7MoRfUu59EYp"
      }
    },
    {
      "cell_type": "code",
      "source": [
        "# =============================================================\n",
        "# ✅ FUNÇÃO REUTILIZÁVEL DE VALIDAÇÃO DE DADOS\n",
        "# =============================================================\n",
        "\n",
        "def valida_dados(df: pd.DataFrame) -> pd.DataFrame:\n",
        "    \"\"\"\n",
        "    Valida os dados de entrada conforme regras de negócio e integridade.\n",
        "    Retorna um DataFrame validado ou gera exceções com os erros detectados.\n",
        "    \"\"\"\n",
        "    schema = DataFrameSchema({\n",
        "        \"shipment_id\": Column(pa.String, checks=[\n",
        "            Check.str_length(min_value=6),\n",
        "            Check(lambda s: s.str.startswith(\"SHP\"))\n",
        "        ], unique=True),\n",
        "\n",
        "        \"route_id\": Column(pa.String, checks=Check.isin([\"RT01\", \"RT02\", \"RT03\", \"RT04\"])),\n",
        "\n",
        "        \"date\": Column(pa.String),\n",
        "\n",
        "        \"delay_minutes\": Column(pa.Int, checks=[\n",
        "            Check.ge(0),\n",
        "            Check.le(240)\n",
        "        ]),\n",
        "\n",
        "        \"cost_usd\": Column(pa.Float, checks=[\n",
        "            Check.ge(0),\n",
        "            Check.le(1000)\n",
        "        ]),\n",
        "\n",
        "        \"temp_c\": Column(pa.Float, checks=[\n",
        "            Check.ge(-30),\n",
        "            Check.le(50)\n",
        "        ]),\n",
        "\n",
        "        \"status\": Column(pa.String, checks=Check.isin([\"delivered\", \"in_transit\", \"failed\"]))\n",
        "    })\n",
        "\n",
        "    try:\n",
        "        validated_df = schema.validate(df, lazy=True)\n",
        "        logger.info(\"✅ Dados validados com sucesso.\")\n",
        "        return validated_df\n",
        "    except pa.errors.SchemaErrors as err:\n",
        "        logger.error(\"❌ Erros detectados na validação dos dados.\")\n",
        "        display(err.failure_cases)\n",
        "        raise\n"
      ],
      "metadata": {
        "id": "D73a3Lc89Irr"
      },
      "execution_count": null,
      "outputs": []
    },
    {
      "cell_type": "markdown",
      "source": [
        "💾 CÉLULA EXTRA – Aplicar a função + salvar versão validada"
      ],
      "metadata": {
        "id": "0PHjnV3j9P2j"
      }
    },
    {
      "cell_type": "markdown",
      "source": [
        "#### 💾 APLICAR VALIDAÇÃO E SALVAR ARQUIVO VALIDADO"
      ],
      "metadata": {
        "id": "faVjuNfB9Qqo"
      }
    },
    {
      "cell_type": "code",
      "source": [
        "# =============================================================\n",
        "# 💾 APLICAR VALIDAÇÃO E SALVAR ARQUIVO VALIDADO\n",
        "# =============================================================\n",
        "\n",
        "validated_df = valida_dados(df)\n",
        "\n",
        "# Caminho para salvar o dataset validado\n",
        "output_path = \"/content/dataflow_validado.parquet\"\n",
        "\n",
        "# Exportar como parquet (mais eficiente e pronto para pipeline)\n",
        "validated_df.to_parquet(output_path, index=False)\n",
        "logger.info(f\"📦 Arquivo validado salvo em: {output_path}\")\n"
      ],
      "metadata": {
        "id": "E0wcs5QU9SzX"
      },
      "execution_count": null,
      "outputs": []
    },
    {
      "cell_type": "markdown",
      "source": [
        "#### ✅ Etapa Concluída – Validação de Dados\n",
        "\n",
        "Este notebook representa uma etapa **obrigatória** do pipeline:\n",
        "- Verifica integridade dos dados recebidos\n",
        "- Aplica regras de negócio e tipagem estrita\n",
        "- Garante rastreabilidade antes de qualquer transformação\n",
        "\n",
        "📤 Saída esperada:\n",
        "- `dataflow_validado.parquet` – versão segura, consistente e auditável dos dados\n",
        "\n",
        "🔁 Reutilização:\n",
        "A função `valida_dados(df)` pode ser chamada em fluxos futuros (ETL, batch, produção).\n"
      ],
      "metadata": {
        "id": "uGYaF8TL9fhr"
      }
    }
  ]
}