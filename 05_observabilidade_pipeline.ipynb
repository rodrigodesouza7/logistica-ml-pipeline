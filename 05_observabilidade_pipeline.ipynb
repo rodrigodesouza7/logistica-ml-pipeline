{
  "nbformat": 4,
  "nbformat_minor": 0,
  "metadata": {
    "colab": {
      "provenance": []
    },
    "kernelspec": {
      "name": "python3",
      "display_name": "Python 3"
    },
    "language_info": {
      "name": "python"
    }
  },
  "cells": [
    {
      "cell_type": "markdown",
      "source": [
        "✅ Bloco 1 – Bibliotecas e Configuração de Logging"
      ],
      "metadata": {
        "id": "02_-gAKCMUhj"
      }
    },
    {
      "cell_type": "markdown",
      "source": [
        "#### 📚 BIBLIOTECAS E CONFIGURAÇÕES GERAIS\n",
        "#### Projeto: Dataflow Sentinel – Observabilidade do Pipeline\n",
        "#### Bloco 5A: Rastreamento e Health-checks técnicos"
      ],
      "metadata": {
        "id": "jSuzpMzcMVxM"
      }
    },
    {
      "cell_type": "code",
      "execution_count": null,
      "metadata": {
        "id": "wAcW24wuMInh"
      },
      "outputs": [],
      "source": [
        "#### 📚 BIBLIOTECAS E CONFIGURAÇÕES GERAIS\n",
        "#### Projeto: Dataflow Sentinel – Observabilidade do Pipeline\n",
        "#### Bloco 5A: Rastreamento e Health-checks técnicos\n",
        "\n",
        "\n",
        "import pandas as pd\n",
        "import numpy as np\n",
        "import os\n",
        "import time\n",
        "from datetime import datetime\n",
        "import logging\n",
        "\n",
        "# Configuração de logging padronizada\n",
        "logging.basicConfig(\n",
        "    level=logging.INFO,\n",
        "    format=\"%(asctime)s | %(levelname)s | %(message)s\",\n",
        "    datefmt=\"%H:%M:%S\"\n",
        ")\n",
        "logger = logging.getLogger(\"DataflowObservability\")\n"
      ]
    },
    {
      "cell_type": "markdown",
      "source": [
        "✅ Bloco 2 – Carregamento com Medição de Tempo"
      ],
      "metadata": {
        "id": "uJaL8WmFMq5x"
      }
    },
    {
      "cell_type": "markdown",
      "source": [
        "#### 📁 LEITURA DO DATASET TRANSFORMADO (.parquet)"
      ],
      "metadata": {
        "id": "tDFcU-oYMtvz"
      }
    },
    {
      "cell_type": "code",
      "source": [
        "# =============================================================\n",
        "# 📁 LEITURA DO DATASET TRANSFORMADO (.parquet)\n",
        "# =============================================================\n",
        "\n",
        "logger.info(\"📥 Iniciando leitura do dataset transformado...\")\n",
        "\n",
        "start_time = time.time()\n",
        "file_path = \"/content/dataflow_transformado.parquet\"\n",
        "\n",
        "if os.path.exists(file_path):\n",
        "    df = pd.read_parquet(file_path)\n",
        "    logger.info(f\"✅ Arquivo carregado com sucesso: {file_path}\")\n",
        "    logger.info(f\"📊 Dimensões do dataset: {df.shape}\")\n",
        "else:\n",
        "    logger.error(f\"❌ Arquivo não encontrado em: {file_path}\")\n",
        "    df = pd.DataFrame()  # fallback vazio\n",
        "\n",
        "elapsed_time = round(time.time() - start_time, 2)\n",
        "logger.info(f\"⏱️ Tempo de carregamento: {elapsed_time} segundos\")\n"
      ],
      "metadata": {
        "id": "g7nTBCSbMw-k"
      },
      "execution_count": null,
      "outputs": []
    },
    {
      "cell_type": "markdown",
      "source": [
        "✅ Bloco 3 – Health-check Técnico e Qualidade dos Dados"
      ],
      "metadata": {
        "id": "OX7rA6jKM2wH"
      }
    },
    {
      "cell_type": "markdown",
      "source": [
        "#### 🔍 VALIDAÇÃO TÉCNICA E INTEGRIDADE DO DATASET"
      ],
      "metadata": {
        "id": "7OUGhyFKM3tT"
      }
    },
    {
      "cell_type": "code",
      "source": [
        "# =============================================================\n",
        "# 🔍 VALIDAÇÃO TÉCNICA E INTEGRIDADE DO DATASET\n",
        "# =============================================================\n",
        "\n",
        "if not df.empty:\n",
        "    logger.info(\"🧪 Executando validações técnicas...\")\n",
        "    print(\"🧪 Iniciando checagens técnicas do dataset...\")\n",
        "\n",
        "    # 1. Colunas obrigatórias\n",
        "    colunas_esperadas = {\n",
        "        'shipment_id', 'route_id', 'date', 'delay_minutes',\n",
        "        'cost_usd', 'temp_c', 'status', 'atraso_critico'\n",
        "    }\n",
        "\n",
        "    colunas_atuais = set(df.columns)\n",
        "    colunas_faltando = colunas_esperadas - colunas_atuais\n",
        "\n",
        "    if colunas_faltando:\n",
        "        logger.warning(f\"⚠️ Colunas ausentes: {colunas_faltando}\")\n",
        "        print(f\"⚠️ Colunas ausentes: {colunas_faltando}\")\n",
        "    else:\n",
        "        logger.info(\"✅ Todas as colunas obrigatórias estão presentes.\")\n",
        "        print(\"✅ Todas as colunas obrigatórias estão presentes.\")\n",
        "\n",
        "    # 2. Linhas mínimas esperadas\n",
        "    if df.shape[0] < 5000:\n",
        "        logger.warning(f\"⚠️ Dataset com poucas linhas: {df.shape[0]}\")\n",
        "        print(f\"⚠️ Dataset com poucas linhas: {df.shape[0]}\")\n",
        "    else:\n",
        "        logger.info(\"✅ Quantidade de registros adequada.\")\n",
        "        print(f\"✅ Registros suficientes: {df.shape[0]} linhas\")\n",
        "\n",
        "    # 3. Proporção de nulos máxima aceitável\n",
        "    null_ratio = df.isnull().mean().max()\n",
        "    limite_nulos = 0.05\n",
        "\n",
        "    if null_ratio > limite_nulos:\n",
        "        logger.warning(f\"⚠️ Proporção de nulos elevada: {null_ratio:.2%}\")\n",
        "        print(f\"⚠️ Proporção de nulos elevada: {null_ratio:.2%}\")\n",
        "    else:\n",
        "        logger.info(\"✅ Nulos dentro do limite.\")\n",
        "        print(f\"✅ Nulos dentro do limite: {null_ratio:.2%}\")\n",
        "else:\n",
        "    logger.error(\"❌ Validações não executadas: dataframe está vazio.\")\n",
        "    print(\"❌ Validações não executadas: dataframe está vazio.\")\n",
        "\n"
      ],
      "metadata": {
        "colab": {
          "base_uri": "https://localhost:8080/"
        },
        "id": "9CEwAjF3M702",
        "outputId": "7cf72923-e441-483b-ebda-f1822ceaa8b7"
      },
      "execution_count": null,
      "outputs": [
        {
          "output_type": "stream",
          "name": "stdout",
          "text": [
            "🧪 Iniciando checagens técnicas do dataset...\n",
            "✅ Todas as colunas obrigatórias estão presentes.\n",
            "✅ Registros suficientes: 10000 linhas\n",
            "✅ Nulos dentro do limite: 0.00%\n"
          ]
        }
      ]
    },
    {
      "cell_type": "markdown",
      "source": [
        "✅ Bloco 4 – Tempo Total de Execução"
      ],
      "metadata": {
        "id": "O2mIaci5M_nj"
      }
    },
    {
      "cell_type": "markdown",
      "source": [
        "#### 🕒 RESUMO DE EXECUÇÃO"
      ],
      "metadata": {
        "id": "pHGN4RpwNIaC"
      }
    },
    {
      "cell_type": "code",
      "source": [
        "# =============================================================\n",
        "# 🕒 RESUMO DE EXECUÇÃO\n",
        "# =============================================================\n",
        "\n",
        "total_exec_time = round(time.time() - start_time, 2)\n",
        "\n",
        "logger.info(\"🏁 Execução finalizada com sucesso.\")\n",
        "logger.info(f\"⏱️ Tempo total da execução monitorada: {total_exec_time} segundos\")\n",
        "\n",
        "print(\"🏁 Execução finalizada com sucesso.\")\n",
        "print(f\"⏱️ Tempo total da execução monitorada: {total_exec_time} segundos\")\n"
      ],
      "metadata": {
        "colab": {
          "base_uri": "https://localhost:8080/"
        },
        "id": "0ejXI6HWNK6_",
        "outputId": "1e06b7a0-7daf-4c51-b986-2b8b1ddc48ea"
      },
      "execution_count": null,
      "outputs": [
        {
          "output_type": "stream",
          "name": "stdout",
          "text": [
            "🏁 Execução finalizada com sucesso.\n",
            "⏱️ Tempo total da execução monitorada: 211.92 segundos\n"
          ]
        }
      ]
    },
    {
      "cell_type": "markdown",
      "source": [
        "#### 📡 Bloco 5A – Observabilidade e Health-check Técnico\n",
        "\n",
        "Este notebook executa uma checagem de produção para o dataset transformado, incluindo:\n",
        "\n",
        "- Leitura com rastreamento de tempo\n",
        "- Validação de colunas obrigatórias\n",
        "- Checagem de quantidade mínima de registros\n",
        "- Avaliação da proporção de dados nulos\n",
        "\n",
        "Logs estruturados são gerados para simular rastreabilidade técnica do pipeline.\n"
      ],
      "metadata": {
        "id": "kpKqxm-tNu_V"
      }
    }
  ]
}