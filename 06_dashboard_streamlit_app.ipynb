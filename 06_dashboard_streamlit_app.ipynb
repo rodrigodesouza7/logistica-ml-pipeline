{
  "nbformat": 4,
  "nbformat_minor": 0,
  "metadata": {
    "colab": {
      "provenance": []
    },
    "kernelspec": {
      "name": "python3",
      "display_name": "Python 3"
    },
    "language_info": {
      "name": "python"
    }
  },
  "cells": [
    {
      "cell_type": "markdown",
      "source": [
        "#### 📊 DASHBOARD STREAMLIT – INFERÊNCIA E VISUALIZAÇÃO\n",
        "#### Projeto: Dataflow Sentinel – Etapa 6"
      ],
      "metadata": {
        "id": "kIAUIwLrSIYJ"
      }
    },
    {
      "cell_type": "code",
      "execution_count": 1,
      "metadata": {
        "colab": {
          "base_uri": "https://localhost:8080/"
        },
        "collapsed": true,
        "id": "VJUndtGzRrA8",
        "outputId": "baa3fd21-d32c-4ad8-d530-25f3ca498047"
      },
      "outputs": [
        {
          "output_type": "stream",
          "name": "stdout",
          "text": [
            "Collecting streamlit\n",
            "  Downloading streamlit-1.45.1-py3-none-any.whl.metadata (8.9 kB)\n",
            "Requirement already satisfied: altair<6,>=4.0 in /usr/local/lib/python3.11/dist-packages (from streamlit) (5.5.0)\n",
            "Requirement already satisfied: blinker<2,>=1.5.0 in /usr/local/lib/python3.11/dist-packages (from streamlit) (1.9.0)\n",
            "Requirement already satisfied: cachetools<6,>=4.0 in /usr/local/lib/python3.11/dist-packages (from streamlit) (5.5.2)\n",
            "Requirement already satisfied: click<9,>=7.0 in /usr/local/lib/python3.11/dist-packages (from streamlit) (8.2.0)\n",
            "Requirement already satisfied: numpy<3,>=1.23 in /usr/local/lib/python3.11/dist-packages (from streamlit) (2.0.2)\n",
            "Requirement already satisfied: packaging<25,>=20 in /usr/local/lib/python3.11/dist-packages (from streamlit) (24.2)\n",
            "Requirement already satisfied: pandas<3,>=1.4.0 in /usr/local/lib/python3.11/dist-packages (from streamlit) (2.2.2)\n",
            "Requirement already satisfied: pillow<12,>=7.1.0 in /usr/local/lib/python3.11/dist-packages (from streamlit) (11.2.1)\n",
            "Requirement already satisfied: protobuf<7,>=3.20 in /usr/local/lib/python3.11/dist-packages (from streamlit) (5.29.4)\n",
            "Requirement already satisfied: pyarrow>=7.0 in /usr/local/lib/python3.11/dist-packages (from streamlit) (18.1.0)\n",
            "Requirement already satisfied: requests<3,>=2.27 in /usr/local/lib/python3.11/dist-packages (from streamlit) (2.32.3)\n",
            "Requirement already satisfied: tenacity<10,>=8.1.0 in /usr/local/lib/python3.11/dist-packages (from streamlit) (9.1.2)\n",
            "Requirement already satisfied: toml<2,>=0.10.1 in /usr/local/lib/python3.11/dist-packages (from streamlit) (0.10.2)\n",
            "Requirement already satisfied: typing-extensions<5,>=4.4.0 in /usr/local/lib/python3.11/dist-packages (from streamlit) (4.13.2)\n",
            "Collecting watchdog<7,>=2.1.5 (from streamlit)\n",
            "  Downloading watchdog-6.0.0-py3-none-manylinux2014_x86_64.whl.metadata (44 kB)\n",
            "\u001b[2K     \u001b[90m━━━━━━━━━━━━━━━━━━━━━━━━━━━━━━━━━━━━━━━━\u001b[0m \u001b[32m44.3/44.3 kB\u001b[0m \u001b[31m1.8 MB/s\u001b[0m eta \u001b[36m0:00:00\u001b[0m\n",
            "\u001b[?25hRequirement already satisfied: gitpython!=3.1.19,<4,>=3.0.7 in /usr/local/lib/python3.11/dist-packages (from streamlit) (3.1.44)\n",
            "Collecting pydeck<1,>=0.8.0b4 (from streamlit)\n",
            "  Downloading pydeck-0.9.1-py2.py3-none-any.whl.metadata (4.1 kB)\n",
            "Requirement already satisfied: tornado<7,>=6.0.3 in /usr/local/lib/python3.11/dist-packages (from streamlit) (6.4.2)\n",
            "Requirement already satisfied: jinja2 in /usr/local/lib/python3.11/dist-packages (from altair<6,>=4.0->streamlit) (3.1.6)\n",
            "Requirement already satisfied: jsonschema>=3.0 in /usr/local/lib/python3.11/dist-packages (from altair<6,>=4.0->streamlit) (4.23.0)\n",
            "Requirement already satisfied: narwhals>=1.14.2 in /usr/local/lib/python3.11/dist-packages (from altair<6,>=4.0->streamlit) (1.39.0)\n",
            "Requirement already satisfied: gitdb<5,>=4.0.1 in /usr/local/lib/python3.11/dist-packages (from gitpython!=3.1.19,<4,>=3.0.7->streamlit) (4.0.12)\n",
            "Requirement already satisfied: python-dateutil>=2.8.2 in /usr/local/lib/python3.11/dist-packages (from pandas<3,>=1.4.0->streamlit) (2.9.0.post0)\n",
            "Requirement already satisfied: pytz>=2020.1 in /usr/local/lib/python3.11/dist-packages (from pandas<3,>=1.4.0->streamlit) (2025.2)\n",
            "Requirement already satisfied: tzdata>=2022.7 in /usr/local/lib/python3.11/dist-packages (from pandas<3,>=1.4.0->streamlit) (2025.2)\n",
            "Requirement already satisfied: charset-normalizer<4,>=2 in /usr/local/lib/python3.11/dist-packages (from requests<3,>=2.27->streamlit) (3.4.2)\n",
            "Requirement already satisfied: idna<4,>=2.5 in /usr/local/lib/python3.11/dist-packages (from requests<3,>=2.27->streamlit) (3.10)\n",
            "Requirement already satisfied: urllib3<3,>=1.21.1 in /usr/local/lib/python3.11/dist-packages (from requests<3,>=2.27->streamlit) (2.4.0)\n",
            "Requirement already satisfied: certifi>=2017.4.17 in /usr/local/lib/python3.11/dist-packages (from requests<3,>=2.27->streamlit) (2025.4.26)\n",
            "Requirement already satisfied: smmap<6,>=3.0.1 in /usr/local/lib/python3.11/dist-packages (from gitdb<5,>=4.0.1->gitpython!=3.1.19,<4,>=3.0.7->streamlit) (5.0.2)\n",
            "Requirement already satisfied: MarkupSafe>=2.0 in /usr/local/lib/python3.11/dist-packages (from jinja2->altair<6,>=4.0->streamlit) (3.0.2)\n",
            "Requirement already satisfied: attrs>=22.2.0 in /usr/local/lib/python3.11/dist-packages (from jsonschema>=3.0->altair<6,>=4.0->streamlit) (25.3.0)\n",
            "Requirement already satisfied: jsonschema-specifications>=2023.03.6 in /usr/local/lib/python3.11/dist-packages (from jsonschema>=3.0->altair<6,>=4.0->streamlit) (2025.4.1)\n",
            "Requirement already satisfied: referencing>=0.28.4 in /usr/local/lib/python3.11/dist-packages (from jsonschema>=3.0->altair<6,>=4.0->streamlit) (0.36.2)\n",
            "Requirement already satisfied: rpds-py>=0.7.1 in /usr/local/lib/python3.11/dist-packages (from jsonschema>=3.0->altair<6,>=4.0->streamlit) (0.24.0)\n",
            "Requirement already satisfied: six>=1.5 in /usr/local/lib/python3.11/dist-packages (from python-dateutil>=2.8.2->pandas<3,>=1.4.0->streamlit) (1.17.0)\n",
            "Downloading streamlit-1.45.1-py3-none-any.whl (9.9 MB)\n",
            "\u001b[2K   \u001b[90m━━━━━━━━━━━━━━━━━━━━━━━━━━━━━━━━━━━━━━━━\u001b[0m \u001b[32m9.9/9.9 MB\u001b[0m \u001b[31m66.9 MB/s\u001b[0m eta \u001b[36m0:00:00\u001b[0m\n",
            "\u001b[?25hDownloading pydeck-0.9.1-py2.py3-none-any.whl (6.9 MB)\n",
            "\u001b[2K   \u001b[90m━━━━━━━━━━━━━━━━━━━━━━━━━━━━━━━━━━━━━━━━\u001b[0m \u001b[32m6.9/6.9 MB\u001b[0m \u001b[31m107.4 MB/s\u001b[0m eta \u001b[36m0:00:00\u001b[0m\n",
            "\u001b[?25hDownloading watchdog-6.0.0-py3-none-manylinux2014_x86_64.whl (79 kB)\n",
            "\u001b[2K   \u001b[90m━━━━━━━━━━━━━━━━━━━━━━━━━━━━━━━━━━━━━━━━\u001b[0m \u001b[32m79.1/79.1 kB\u001b[0m \u001b[31m6.5 MB/s\u001b[0m eta \u001b[36m0:00:00\u001b[0m\n",
            "\u001b[?25hInstalling collected packages: watchdog, pydeck, streamlit\n",
            "Successfully installed pydeck-0.9.1 streamlit-1.45.1 watchdog-6.0.0\n"
          ]
        }
      ],
      "source": [
        "pip install streamlit\n"
      ]
    },
    {
      "cell_type": "markdown",
      "source": [
        "#### Bloco 1 – Bibliotecas e Configuração Inicial"
      ],
      "metadata": {
        "id": "raAuAHLmSU8h"
      }
    },
    {
      "cell_type": "code",
      "source": [
        "# Bloco 1 – Bibliotecas e Configuração Inicial\n",
        "import streamlit as st\n",
        "import pandas as pd\n",
        "import joblib\n",
        "import os\n"
      ],
      "metadata": {
        "id": "gYPSOEb_SbxN"
      },
      "execution_count": 2,
      "outputs": []
    },
    {
      "cell_type": "markdown",
      "source": [
        "#### 🚀 SETUP INICIAL DO APP"
      ],
      "metadata": {
        "id": "uOskDi_uSfIF"
      }
    },
    {
      "cell_type": "code",
      "source": [
        "# =============================================================\n",
        "# 🚀 SETUP INICIAL DO APP\n",
        "# =============================================================\n",
        "st.set_page_config(page_title=\"📦 Dataflow Sentinel Dashboard\", layout=\"centered\")\n",
        "st.title(\"📊 Dashboard ML – Status Logístico\")"
      ],
      "metadata": {
        "colab": {
          "base_uri": "https://localhost:8080/"
        },
        "collapsed": true,
        "id": "QyG3VyP0SkZT",
        "outputId": "bf2a9a7c-4f66-42ce-ac97-f0bb23228435"
      },
      "execution_count": 3,
      "outputs": [
        {
          "output_type": "stream",
          "name": "stderr",
          "text": [
            "2025-05-25 16:33:08.155 WARNING streamlit.runtime.scriptrunner_utils.script_run_context: Thread 'MainThread': missing ScriptRunContext! This warning can be ignored when running in bare mode.\n",
            "2025-05-25 16:33:08.160 WARNING streamlit.runtime.scriptrunner_utils.script_run_context: Thread 'MainThread': missing ScriptRunContext! This warning can be ignored when running in bare mode.\n",
            "2025-05-25 16:33:08.517 \n",
            "  \u001b[33m\u001b[1mWarning:\u001b[0m to view this Streamlit app on a browser, run it with the following\n",
            "  command:\n",
            "\n",
            "    streamlit run /usr/local/lib/python3.11/dist-packages/colab_kernel_launcher.py [ARGUMENTS]\n",
            "2025-05-25 16:33:08.522 Thread 'MainThread': missing ScriptRunContext! This warning can be ignored when running in bare mode.\n"
          ]
        },
        {
          "output_type": "execute_result",
          "data": {
            "text/plain": [
              "DeltaGenerator()"
            ]
          },
          "metadata": {},
          "execution_count": 3
        }
      ]
    },
    {
      "cell_type": "markdown",
      "source": [
        "#### Bloco 2 – Carregamento de Recursos"
      ],
      "metadata": {
        "id": "ra3jRCYTTUcX"
      }
    },
    {
      "cell_type": "markdown",
      "source": [
        "#### 📁 LOAD: Modelo e Dados"
      ],
      "metadata": {
        "id": "u8aCBcJPTbC8"
      }
    },
    {
      "cell_type": "code",
      "source": [
        "# Bloco 2 – Carregamento de Recursos\n",
        "# =============================================================\n",
        "# 📁 LOAD: Modelo e Dados\n",
        "# =============================================================\n",
        "\n",
        "MODEL_PATH = \"dataflow_modelo_status.pkl\"\n",
        "DATA_PATH = \"dataflow_transformado.parquet\"\n",
        "\n",
        "@st.cache_resource\n",
        "def carregar_modelo():\n",
        "    if os.path.exists(MODEL_PATH):\n",
        "        model = joblib.load(MODEL_PATH)\n",
        "        print(\"✅ Modelo carregado.\")\n",
        "        return model\n",
        "    else:\n",
        "        st.error(\"❌ Modelo não encontrado.\")\n",
        "        return None\n",
        "\n",
        "@st.cache_data\n",
        "def carregar_dados():\n",
        "    if os.path.exists(DATA_PATH):\n",
        "        df = pd.read_parquet(DATA_PATH)\n",
        "        print(\"✅ Dados carregados.\")\n",
        "        return df\n",
        "    else:\n",
        "        st.warning(\"⚠️ Arquivo de dados não encontrado.\")\n",
        "        return pd.DataFrame()\n",
        "\n",
        "modelo = carregar_modelo()\n",
        "df = carregar_dados()"
      ],
      "metadata": {
        "colab": {
          "base_uri": "https://localhost:8080/"
        },
        "collapsed": true,
        "id": "OUhT54FpTe-A",
        "outputId": "a4124aa5-3c79-476f-98f5-100a168339e8"
      },
      "execution_count": 4,
      "outputs": [
        {
          "output_type": "stream",
          "name": "stderr",
          "text": [
            "2025-05-25 16:37:12.918 No runtime found, using MemoryCacheStorageManager\n",
            "2025-05-25 16:37:12.925 Thread 'MainThread': missing ScriptRunContext! This warning can be ignored when running in bare mode.\n",
            "2025-05-25 16:37:12.927 Thread 'MainThread': missing ScriptRunContext! This warning can be ignored when running in bare mode.\n",
            "2025-05-25 16:37:12.929 Thread 'MainThread': missing ScriptRunContext! This warning can be ignored when running in bare mode.\n",
            "2025-05-25 16:37:12.932 Thread 'MainThread': missing ScriptRunContext! This warning can be ignored when running in bare mode.\n",
            "2025-05-25 16:37:12.934 Thread 'MainThread': missing ScriptRunContext! This warning can be ignored when running in bare mode.\n",
            "2025-05-25 16:37:12.936 Thread 'MainThread': missing ScriptRunContext! This warning can be ignored when running in bare mode.\n",
            "2025-05-25 16:37:12.938 Thread 'MainThread': missing ScriptRunContext! This warning can be ignored when running in bare mode.\n",
            "2025-05-25 16:37:12.940 No runtime found, using MemoryCacheStorageManager\n",
            "2025-05-25 16:37:12.941 Thread 'MainThread': missing ScriptRunContext! This warning can be ignored when running in bare mode.\n",
            "2025-05-25 16:37:12.943 Thread 'MainThread': missing ScriptRunContext! This warning can be ignored when running in bare mode.\n",
            "2025-05-25 16:37:12.945 Thread 'MainThread': missing ScriptRunContext! This warning can be ignored when running in bare mode.\n",
            "2025-05-25 16:37:13.244 Thread 'MainThread': missing ScriptRunContext! This warning can be ignored when running in bare mode.\n",
            "2025-05-25 16:37:13.252 Thread 'MainThread': missing ScriptRunContext! This warning can be ignored when running in bare mode.\n"
          ]
        },
        {
          "output_type": "stream",
          "name": "stdout",
          "text": [
            "✅ Dados carregados.\n"
          ]
        }
      ]
    },
    {
      "cell_type": "markdown",
      "source": [
        "#### Bloco 3 – Visualização dos Dados"
      ],
      "metadata": {
        "id": "qfY2JM7bTlah"
      }
    },
    {
      "cell_type": "markdown",
      "source": [
        "#### 🔍 DADOS TRANSFORMADOS"
      ],
      "metadata": {
        "id": "8RVBhHquTpXY"
      }
    },
    {
      "cell_type": "code",
      "source": [
        "# Bloco 3 – Visualização dos Dados\n",
        "# =============================================================\n",
        "# 🔍 DADOS TRANSFORMADOS\n",
        "# =============================================================\n",
        "st.subheader(\"🔍 Visualização dos Dados de Entrada\")\n",
        "if not df.empty:\n",
        "    st.dataframe(df.head(10))\n",
        "else:\n",
        "    st.warning(\"⚠️ Dataset vazio ou não carregado.\")"
      ],
      "metadata": {
        "colab": {
          "base_uri": "https://localhost:8080/"
        },
        "collapsed": true,
        "id": "wBDG6su_TsES",
        "outputId": "4b62ce66-2fe5-4d8d-9709-24dbf44ef076"
      },
      "execution_count": 5,
      "outputs": [
        {
          "output_type": "stream",
          "name": "stderr",
          "text": [
            "2025-05-25 16:38:00.835 Thread 'MainThread': missing ScriptRunContext! This warning can be ignored when running in bare mode.\n",
            "2025-05-25 16:38:00.836 Thread 'MainThread': missing ScriptRunContext! This warning can be ignored when running in bare mode.\n",
            "2025-05-25 16:38:00.844 Thread 'MainThread': missing ScriptRunContext! This warning can be ignored when running in bare mode.\n",
            "2025-05-25 16:38:00.844 Thread 'MainThread': missing ScriptRunContext! This warning can be ignored when running in bare mode.\n"
          ]
        }
      ]
    },
    {
      "cell_type": "markdown",
      "source": [
        "#### Bloco 4 – Entrada para Inferência"
      ],
      "metadata": {
        "id": "kChamk6FTxXm"
      }
    },
    {
      "cell_type": "markdown",
      "source": [
        "#### 🧮 SIMULAÇÃO DE ENTRADA"
      ],
      "metadata": {
        "id": "IT2zqynQT02O"
      }
    },
    {
      "cell_type": "code",
      "source": [
        "# Bloco 4 – Entrada para Inferência\n",
        "# =============================================================\n",
        "# 🧮 SIMULAÇÃO DE ENTRADA\n",
        "# =============================================================\n",
        "\n",
        "st.subheader(\"🎯 Simule uma Previsão de Status\")\n",
        "\n",
        "# Entradas interativas\n",
        "delay = st.slider(\"⏱️ Minutos de Atraso\", 0, 30, 10)\n",
        "cost = st.slider(\"💵 Custo (USD)\", 0.0, 120.0, 50.0)\n",
        "temp = st.slider(\"🌡️ Temperatura (°C)\", -5.0, 15.0, 5.0)\n",
        "ano = st.selectbox(\"📅 Ano\", sorted(df[\"ano\"].unique()) if not df.empty else [2023])\n",
        "mes = st.selectbox(\"📆 Mês\", list(range(1, 13)))\n",
        "fim_semana = st.radio(\"🛑 É fim de semana?\", [True, False])\n",
        "atraso_critico = delay > 15\n",
        "\n",
        "# Montar o input\n",
        "input_data = pd.DataFrame([{\n",
        "    \"delay_minutes\": delay,\n",
        "    \"cost_usd\": cost,\n",
        "    \"temp_c\": temp,\n",
        "    \"ano\": ano,\n",
        "    \"mes\": mes,\n",
        "    \"fim_de_semana\": fim_semana,\n",
        "    \"atraso_critico\": atraso_critico\n",
        "}])\n",
        "\n",
        "st.write(\"📥 Entrada formatada:\")\n",
        "st.dataframe(input_data)"
      ],
      "metadata": {
        "colab": {
          "base_uri": "https://localhost:8080/"
        },
        "collapsed": true,
        "id": "Mzhp0of2T6TN",
        "outputId": "297e7cd4-3c87-41a5-efac-28ba17443ce4"
      },
      "execution_count": 6,
      "outputs": [
        {
          "output_type": "stream",
          "name": "stderr",
          "text": [
            "2025-05-25 16:39:02.155 Thread 'MainThread': missing ScriptRunContext! This warning can be ignored when running in bare mode.\n",
            "2025-05-25 16:39:02.158 Thread 'MainThread': missing ScriptRunContext! This warning can be ignored when running in bare mode.\n",
            "2025-05-25 16:39:02.158 Thread 'MainThread': missing ScriptRunContext! This warning can be ignored when running in bare mode.\n",
            "2025-05-25 16:39:02.159 Thread 'MainThread': missing ScriptRunContext! This warning can be ignored when running in bare mode.\n",
            "2025-05-25 16:39:02.160 Thread 'MainThread': missing ScriptRunContext! This warning can be ignored when running in bare mode.\n",
            "2025-05-25 16:39:02.162 Thread 'MainThread': missing ScriptRunContext! This warning can be ignored when running in bare mode.\n",
            "2025-05-25 16:39:02.162 Thread 'MainThread': missing ScriptRunContext! This warning can be ignored when running in bare mode.\n",
            "2025-05-25 16:39:02.163 Thread 'MainThread': missing ScriptRunContext! This warning can be ignored when running in bare mode.\n",
            "2025-05-25 16:39:02.164 Thread 'MainThread': missing ScriptRunContext! This warning can be ignored when running in bare mode.\n",
            "2025-05-25 16:39:02.165 Thread 'MainThread': missing ScriptRunContext! This warning can be ignored when running in bare mode.\n",
            "2025-05-25 16:39:02.166 Thread 'MainThread': missing ScriptRunContext! This warning can be ignored when running in bare mode.\n",
            "2025-05-25 16:39:02.167 Thread 'MainThread': missing ScriptRunContext! This warning can be ignored when running in bare mode.\n",
            "2025-05-25 16:39:02.168 Thread 'MainThread': missing ScriptRunContext! This warning can be ignored when running in bare mode.\n",
            "2025-05-25 16:39:02.169 Thread 'MainThread': missing ScriptRunContext! This warning can be ignored when running in bare mode.\n",
            "2025-05-25 16:39:02.170 Thread 'MainThread': missing ScriptRunContext! This warning can be ignored when running in bare mode.\n",
            "2025-05-25 16:39:02.171 Thread 'MainThread': missing ScriptRunContext! This warning can be ignored when running in bare mode.\n",
            "2025-05-25 16:39:02.172 Thread 'MainThread': missing ScriptRunContext! This warning can be ignored when running in bare mode.\n",
            "2025-05-25 16:39:02.174 Thread 'MainThread': missing ScriptRunContext! This warning can be ignored when running in bare mode.\n",
            "2025-05-25 16:39:02.175 Thread 'MainThread': missing ScriptRunContext! This warning can be ignored when running in bare mode.\n",
            "2025-05-25 16:39:02.176 Thread 'MainThread': missing ScriptRunContext! This warning can be ignored when running in bare mode.\n",
            "2025-05-25 16:39:02.176 Thread 'MainThread': missing ScriptRunContext! This warning can be ignored when running in bare mode.\n",
            "2025-05-25 16:39:02.177 Session state does not function when running a script without `streamlit run`\n",
            "2025-05-25 16:39:02.178 Thread 'MainThread': missing ScriptRunContext! This warning can be ignored when running in bare mode.\n",
            "2025-05-25 16:39:02.178 Thread 'MainThread': missing ScriptRunContext! This warning can be ignored when running in bare mode.\n",
            "2025-05-25 16:39:02.179 Thread 'MainThread': missing ScriptRunContext! This warning can be ignored when running in bare mode.\n",
            "2025-05-25 16:39:02.180 Thread 'MainThread': missing ScriptRunContext! This warning can be ignored when running in bare mode.\n",
            "2025-05-25 16:39:02.180 Thread 'MainThread': missing ScriptRunContext! This warning can be ignored when running in bare mode.\n",
            "2025-05-25 16:39:02.181 Thread 'MainThread': missing ScriptRunContext! This warning can be ignored when running in bare mode.\n",
            "2025-05-25 16:39:02.182 Thread 'MainThread': missing ScriptRunContext! This warning can be ignored when running in bare mode.\n",
            "2025-05-25 16:39:02.182 Thread 'MainThread': missing ScriptRunContext! This warning can be ignored when running in bare mode.\n",
            "2025-05-25 16:39:02.183 Thread 'MainThread': missing ScriptRunContext! This warning can be ignored when running in bare mode.\n",
            "2025-05-25 16:39:02.184 Thread 'MainThread': missing ScriptRunContext! This warning can be ignored when running in bare mode.\n",
            "2025-05-25 16:39:02.184 Thread 'MainThread': missing ScriptRunContext! This warning can be ignored when running in bare mode.\n",
            "2025-05-25 16:39:02.185 Thread 'MainThread': missing ScriptRunContext! This warning can be ignored when running in bare mode.\n",
            "2025-05-25 16:39:02.186 Thread 'MainThread': missing ScriptRunContext! This warning can be ignored when running in bare mode.\n",
            "2025-05-25 16:39:02.186 Thread 'MainThread': missing ScriptRunContext! This warning can be ignored when running in bare mode.\n",
            "2025-05-25 16:39:02.196 Thread 'MainThread': missing ScriptRunContext! This warning can be ignored when running in bare mode.\n",
            "2025-05-25 16:39:02.198 Thread 'MainThread': missing ScriptRunContext! This warning can be ignored when running in bare mode.\n",
            "2025-05-25 16:39:02.202 Thread 'MainThread': missing ScriptRunContext! This warning can be ignored when running in bare mode.\n",
            "2025-05-25 16:39:02.203 Thread 'MainThread': missing ScriptRunContext! This warning can be ignored when running in bare mode.\n"
          ]
        },
        {
          "output_type": "execute_result",
          "data": {
            "text/plain": [
              "DeltaGenerator()"
            ]
          },
          "metadata": {},
          "execution_count": 6
        }
      ]
    },
    {
      "cell_type": "markdown",
      "source": [
        "#### Bloco 5 – Previsão"
      ],
      "metadata": {
        "id": "vEMS6mJZUA9y"
      }
    },
    {
      "cell_type": "markdown",
      "source": [
        "#### 🔮 INFERÊNCIA DO MODELO"
      ],
      "metadata": {
        "id": "J9jvotjTUFLD"
      }
    },
    {
      "cell_type": "code",
      "source": [
        "# Bloco 5 – Previsão\n",
        "# =============================================================\n",
        "# 🔮 INFERÊNCIA DO MODELO\n",
        "# =============================================================\n",
        "if st.button(\"🔮 Prever Status\"):\n",
        "    if modelo:\n",
        "        pred = modelo.predict(input_data)[0]\n",
        "        st.success(f\"✅ Status previsto: **{pred}**\")\n",
        "    else:\n",
        "        st.error(\"❌ Modelo indisponível para inferência.\")"
      ],
      "metadata": {
        "colab": {
          "base_uri": "https://localhost:8080/"
        },
        "collapsed": true,
        "id": "W__vCm9NUIUl",
        "outputId": "83e045a0-49f9-4e60-be4f-ef61b8e303f2"
      },
      "execution_count": 7,
      "outputs": [
        {
          "output_type": "stream",
          "name": "stderr",
          "text": [
            "2025-05-25 16:39:56.940 Thread 'MainThread': missing ScriptRunContext! This warning can be ignored when running in bare mode.\n",
            "2025-05-25 16:39:56.942 Thread 'MainThread': missing ScriptRunContext! This warning can be ignored when running in bare mode.\n",
            "2025-05-25 16:39:56.943 Thread 'MainThread': missing ScriptRunContext! This warning can be ignored when running in bare mode.\n",
            "2025-05-25 16:39:56.945 Thread 'MainThread': missing ScriptRunContext! This warning can be ignored when running in bare mode.\n",
            "2025-05-25 16:39:56.947 Thread 'MainThread': missing ScriptRunContext! This warning can be ignored when running in bare mode.\n"
          ]
        }
      ]
    },
    {
      "cell_type": "markdown",
      "source": [
        "#### Bloco 6 – Importância das Features"
      ],
      "metadata": {
        "id": "8IfxEl5GUMbH"
      }
    },
    {
      "cell_type": "markdown",
      "source": [
        "#### 📌 INSIGHTS DO MODELO"
      ],
      "metadata": {
        "id": "s7lAU548URqt"
      }
    },
    {
      "cell_type": "code",
      "source": [
        "# Bloco 6 – Importância das Features\n",
        "# =============================================================\n",
        "# 📌 INSIGHTS DO MODELO\n",
        "# =============================================================\n",
        "if modelo:\n",
        "    st.subheader(\"📌 Importância das Features\")\n",
        "    importancias = pd.Series(modelo.feature_importances_, index=input_data.columns)\n",
        "    st.bar_chart(importancias.sort_values(ascending=False))\n",
        "\n",
        "# Bloco Final – Footer\n",
        "st.caption(\"🛠️ Projeto Dataflow Sentinel • Streamlit • Etapa 6\")"
      ],
      "metadata": {
        "colab": {
          "base_uri": "https://localhost:8080/"
        },
        "id": "mXlfom4iUUSP",
        "outputId": "03f7fbd2-7587-403d-a381-51d484b89a23"
      },
      "execution_count": 8,
      "outputs": [
        {
          "output_type": "stream",
          "name": "stderr",
          "text": [
            "2025-05-25 16:40:57.661 Thread 'MainThread': missing ScriptRunContext! This warning can be ignored when running in bare mode.\n",
            "2025-05-25 16:40:57.663 Thread 'MainThread': missing ScriptRunContext! This warning can be ignored when running in bare mode.\n"
          ]
        },
        {
          "output_type": "execute_result",
          "data": {
            "text/plain": [
              "DeltaGenerator()"
            ]
          },
          "metadata": {},
          "execution_count": 8
        }
      ]
    },
    {
      "cell_type": "code",
      "source": [
        "!streamlit run 06_dashboard_streamlit_app.py"
      ],
      "metadata": {
        "colab": {
          "base_uri": "https://localhost:8080/"
        },
        "id": "w-2JlVT8UbvU",
        "outputId": "ba28075e-9e7f-4c44-da03-aacdd5948b6e"
      },
      "execution_count": 10,
      "outputs": [
        {
          "output_type": "stream",
          "name": "stdout",
          "text": [
            "Usage: streamlit run [OPTIONS] TARGET [ARGS]...\n",
            "Try 'streamlit run --help' for help.\n",
            "\n",
            "Error: Invalid value: File does not exist: 06_dashboard_streamlit_app.py\n"
          ]
        }
      ]
    }
  ]
}