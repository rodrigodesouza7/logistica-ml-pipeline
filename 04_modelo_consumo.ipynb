{
  "nbformat": 4,
  "nbformat_minor": 0,
  "metadata": {
    "colab": {
      "provenance": []
    },
    "kernelspec": {
      "name": "python3",
      "display_name": "Python 3"
    },
    "language_info": {
      "name": "python"
    }
  },
  "cells": [
    {
      "cell_type": "markdown",
      "source": [
        "✅ CÉLULA 1 – Setup e Bibliotecas"
      ],
      "metadata": {
        "id": "DM0jn7c1Ggje"
      }
    },
    {
      "cell_type": "markdown",
      "source": [
        "#### 📚 BIBLIOTECAS PARA TREINAMENTO DE MODELO\n",
        "#### Projeto: Dataflow Sentinel – Consumo por ML"
      ],
      "metadata": {
        "id": "MlK9Pcf9Gh_r"
      }
    },
    {
      "cell_type": "code",
      "execution_count": null,
      "metadata": {
        "id": "W4bcCP1wA0o5"
      },
      "outputs": [],
      "source": [
        "# =============================================================\n",
        "# 📚 BIBLIOTECAS PARA TREINAMENTO DE MODELO\n",
        "# Projeto: Dataflow Sentinel – Consumo por ML\n",
        "# =============================================================\n",
        "\n",
        "import pandas as pd\n",
        "import numpy as np\n",
        "import logging\n",
        "import os\n",
        "from sklearn.model_selection import train_test_split\n",
        "from sklearn.ensemble import RandomForestClassifier\n",
        "from sklearn.metrics import classification_report, confusion_matrix\n",
        "import joblib\n",
        "\n",
        "# Logging\n",
        "logging.basicConfig(level=logging.INFO,\n",
        "                    format='[%(levelname)s] %(asctime)s - %(message)s',\n",
        "                    datefmt='%H:%M:%S')\n",
        "logger = logging.getLogger()\n"
      ]
    },
    {
      "cell_type": "markdown",
      "source": [
        "✅ CÉLULA 2 – Leitura dos dados transformados"
      ],
      "metadata": {
        "id": "4jd6kMSTGsYC"
      }
    },
    {
      "cell_type": "markdown",
      "source": [
        "#### 📁 LEITURA DO DATASET TRANSFORMADO (.parquet)"
      ],
      "metadata": {
        "id": "9c7ptWDZGvco"
      }
    },
    {
      "cell_type": "code",
      "source": [
        "# =============================================================\n",
        "# 📁 LEITURA DO DATASET TRANSFORMADO (.parquet)\n",
        "# =============================================================\n",
        "\n",
        "parquet_path = \"/content/dataflow_transformado.parquet\"\n",
        "\n",
        "if not os.path.exists(parquet_path):\n",
        "    logger.error(f\"❌ Arquivo Parquet não encontrado: {parquet_path}\")\n",
        "else:\n",
        "    logger.info(f\"📦 Arquivo localizado: {parquet_path}\")\n",
        "\n",
        "df = pd.read_parquet(parquet_path)\n",
        "df.head()\n"
      ],
      "metadata": {
        "colab": {
          "base_uri": "https://localhost:8080/",
          "height": 309
        },
        "collapsed": true,
        "id": "f_AFg5R7G2tB",
        "outputId": "bd60e058-ad3f-4615-cfb9-7b716fe78d74"
      },
      "execution_count": null,
      "outputs": [
        {
          "output_type": "execute_result",
          "data": {
            "text/plain": [
              "  shipment_id route_id       date  delay_minutes  cost_usd  temp_c  \\\n",
              "0    SHP10000     RT02 1998-01-08             12     36.23     7.4   \n",
              "1    SHP10001     RT03 1998-01-09              8     37.28     4.4   \n",
              "2    SHP10002     RT04 1998-01-10              7     31.80     3.1   \n",
              "3    SHP10003     RT04 1998-01-11             12     98.73     5.1   \n",
              "4    SHP10004     RT02 1998-01-12             10     69.52     0.8   \n",
              "\n",
              "       status   ano  mes  dia dia_semana  fim_de_semana  atraso_critico  \\\n",
              "0   delivered  1998    1    8   Thursday          False           False   \n",
              "1      failed  1998    1    9     Friday          False           False   \n",
              "2  in_transit  1998    1   10   Saturday           True           False   \n",
              "3  in_transit  1998    1   11     Sunday           True           False   \n",
              "4   delivered  1998    1   12     Monday          False           False   \n",
              "\n",
              "  custo_categoria  \n",
              "0           baixo  \n",
              "1           baixo  \n",
              "2           baixo  \n",
              "3            alto  \n",
              "4           médio  "
            ],
            "text/html": [
              "\n",
              "  <div id=\"df-f83ca7e2-5256-4ca9-ad0d-20369284d723\" class=\"colab-df-container\">\n",
              "    <div>\n",
              "<style scoped>\n",
              "    .dataframe tbody tr th:only-of-type {\n",
              "        vertical-align: middle;\n",
              "    }\n",
              "\n",
              "    .dataframe tbody tr th {\n",
              "        vertical-align: top;\n",
              "    }\n",
              "\n",
              "    .dataframe thead th {\n",
              "        text-align: right;\n",
              "    }\n",
              "</style>\n",
              "<table border=\"1\" class=\"dataframe\">\n",
              "  <thead>\n",
              "    <tr style=\"text-align: right;\">\n",
              "      <th></th>\n",
              "      <th>shipment_id</th>\n",
              "      <th>route_id</th>\n",
              "      <th>date</th>\n",
              "      <th>delay_minutes</th>\n",
              "      <th>cost_usd</th>\n",
              "      <th>temp_c</th>\n",
              "      <th>status</th>\n",
              "      <th>ano</th>\n",
              "      <th>mes</th>\n",
              "      <th>dia</th>\n",
              "      <th>dia_semana</th>\n",
              "      <th>fim_de_semana</th>\n",
              "      <th>atraso_critico</th>\n",
              "      <th>custo_categoria</th>\n",
              "    </tr>\n",
              "  </thead>\n",
              "  <tbody>\n",
              "    <tr>\n",
              "      <th>0</th>\n",
              "      <td>SHP10000</td>\n",
              "      <td>RT02</td>\n",
              "      <td>1998-01-08</td>\n",
              "      <td>12</td>\n",
              "      <td>36.23</td>\n",
              "      <td>7.4</td>\n",
              "      <td>delivered</td>\n",
              "      <td>1998</td>\n",
              "      <td>1</td>\n",
              "      <td>8</td>\n",
              "      <td>Thursday</td>\n",
              "      <td>False</td>\n",
              "      <td>False</td>\n",
              "      <td>baixo</td>\n",
              "    </tr>\n",
              "    <tr>\n",
              "      <th>1</th>\n",
              "      <td>SHP10001</td>\n",
              "      <td>RT03</td>\n",
              "      <td>1998-01-09</td>\n",
              "      <td>8</td>\n",
              "      <td>37.28</td>\n",
              "      <td>4.4</td>\n",
              "      <td>failed</td>\n",
              "      <td>1998</td>\n",
              "      <td>1</td>\n",
              "      <td>9</td>\n",
              "      <td>Friday</td>\n",
              "      <td>False</td>\n",
              "      <td>False</td>\n",
              "      <td>baixo</td>\n",
              "    </tr>\n",
              "    <tr>\n",
              "      <th>2</th>\n",
              "      <td>SHP10002</td>\n",
              "      <td>RT04</td>\n",
              "      <td>1998-01-10</td>\n",
              "      <td>7</td>\n",
              "      <td>31.80</td>\n",
              "      <td>3.1</td>\n",
              "      <td>in_transit</td>\n",
              "      <td>1998</td>\n",
              "      <td>1</td>\n",
              "      <td>10</td>\n",
              "      <td>Saturday</td>\n",
              "      <td>True</td>\n",
              "      <td>False</td>\n",
              "      <td>baixo</td>\n",
              "    </tr>\n",
              "    <tr>\n",
              "      <th>3</th>\n",
              "      <td>SHP10003</td>\n",
              "      <td>RT04</td>\n",
              "      <td>1998-01-11</td>\n",
              "      <td>12</td>\n",
              "      <td>98.73</td>\n",
              "      <td>5.1</td>\n",
              "      <td>in_transit</td>\n",
              "      <td>1998</td>\n",
              "      <td>1</td>\n",
              "      <td>11</td>\n",
              "      <td>Sunday</td>\n",
              "      <td>True</td>\n",
              "      <td>False</td>\n",
              "      <td>alto</td>\n",
              "    </tr>\n",
              "    <tr>\n",
              "      <th>4</th>\n",
              "      <td>SHP10004</td>\n",
              "      <td>RT02</td>\n",
              "      <td>1998-01-12</td>\n",
              "      <td>10</td>\n",
              "      <td>69.52</td>\n",
              "      <td>0.8</td>\n",
              "      <td>delivered</td>\n",
              "      <td>1998</td>\n",
              "      <td>1</td>\n",
              "      <td>12</td>\n",
              "      <td>Monday</td>\n",
              "      <td>False</td>\n",
              "      <td>False</td>\n",
              "      <td>médio</td>\n",
              "    </tr>\n",
              "  </tbody>\n",
              "</table>\n",
              "</div>\n",
              "    <div class=\"colab-df-buttons\">\n",
              "\n",
              "  <div class=\"colab-df-container\">\n",
              "    <button class=\"colab-df-convert\" onclick=\"convertToInteractive('df-f83ca7e2-5256-4ca9-ad0d-20369284d723')\"\n",
              "            title=\"Convert this dataframe to an interactive table.\"\n",
              "            style=\"display:none;\">\n",
              "\n",
              "  <svg xmlns=\"http://www.w3.org/2000/svg\" height=\"24px\" viewBox=\"0 -960 960 960\">\n",
              "    <path d=\"M120-120v-720h720v720H120Zm60-500h600v-160H180v160Zm220 220h160v-160H400v160Zm0 220h160v-160H400v160ZM180-400h160v-160H180v160Zm440 0h160v-160H620v160ZM180-180h160v-160H180v160Zm440 0h160v-160H620v160Z\"/>\n",
              "  </svg>\n",
              "    </button>\n",
              "\n",
              "  <style>\n",
              "    .colab-df-container {\n",
              "      display:flex;\n",
              "      gap: 12px;\n",
              "    }\n",
              "\n",
              "    .colab-df-convert {\n",
              "      background-color: #E8F0FE;\n",
              "      border: none;\n",
              "      border-radius: 50%;\n",
              "      cursor: pointer;\n",
              "      display: none;\n",
              "      fill: #1967D2;\n",
              "      height: 32px;\n",
              "      padding: 0 0 0 0;\n",
              "      width: 32px;\n",
              "    }\n",
              "\n",
              "    .colab-df-convert:hover {\n",
              "      background-color: #E2EBFA;\n",
              "      box-shadow: 0px 1px 2px rgba(60, 64, 67, 0.3), 0px 1px 3px 1px rgba(60, 64, 67, 0.15);\n",
              "      fill: #174EA6;\n",
              "    }\n",
              "\n",
              "    .colab-df-buttons div {\n",
              "      margin-bottom: 4px;\n",
              "    }\n",
              "\n",
              "    [theme=dark] .colab-df-convert {\n",
              "      background-color: #3B4455;\n",
              "      fill: #D2E3FC;\n",
              "    }\n",
              "\n",
              "    [theme=dark] .colab-df-convert:hover {\n",
              "      background-color: #434B5C;\n",
              "      box-shadow: 0px 1px 3px 1px rgba(0, 0, 0, 0.15);\n",
              "      filter: drop-shadow(0px 1px 2px rgba(0, 0, 0, 0.3));\n",
              "      fill: #FFFFFF;\n",
              "    }\n",
              "  </style>\n",
              "\n",
              "    <script>\n",
              "      const buttonEl =\n",
              "        document.querySelector('#df-f83ca7e2-5256-4ca9-ad0d-20369284d723 button.colab-df-convert');\n",
              "      buttonEl.style.display =\n",
              "        google.colab.kernel.accessAllowed ? 'block' : 'none';\n",
              "\n",
              "      async function convertToInteractive(key) {\n",
              "        const element = document.querySelector('#df-f83ca7e2-5256-4ca9-ad0d-20369284d723');\n",
              "        const dataTable =\n",
              "          await google.colab.kernel.invokeFunction('convertToInteractive',\n",
              "                                                    [key], {});\n",
              "        if (!dataTable) return;\n",
              "\n",
              "        const docLinkHtml = 'Like what you see? Visit the ' +\n",
              "          '<a target=\"_blank\" href=https://colab.research.google.com/notebooks/data_table.ipynb>data table notebook</a>'\n",
              "          + ' to learn more about interactive tables.';\n",
              "        element.innerHTML = '';\n",
              "        dataTable['output_type'] = 'display_data';\n",
              "        await google.colab.output.renderOutput(dataTable, element);\n",
              "        const docLink = document.createElement('div');\n",
              "        docLink.innerHTML = docLinkHtml;\n",
              "        element.appendChild(docLink);\n",
              "      }\n",
              "    </script>\n",
              "  </div>\n",
              "\n",
              "\n",
              "    <div id=\"df-d9fade3d-6800-49bd-8aee-2347ff574afc\">\n",
              "      <button class=\"colab-df-quickchart\" onclick=\"quickchart('df-d9fade3d-6800-49bd-8aee-2347ff574afc')\"\n",
              "                title=\"Suggest charts\"\n",
              "                style=\"display:none;\">\n",
              "\n",
              "<svg xmlns=\"http://www.w3.org/2000/svg\" height=\"24px\"viewBox=\"0 0 24 24\"\n",
              "     width=\"24px\">\n",
              "    <g>\n",
              "        <path d=\"M19 3H5c-1.1 0-2 .9-2 2v14c0 1.1.9 2 2 2h14c1.1 0 2-.9 2-2V5c0-1.1-.9-2-2-2zM9 17H7v-7h2v7zm4 0h-2V7h2v10zm4 0h-2v-4h2v4z\"/>\n",
              "    </g>\n",
              "</svg>\n",
              "      </button>\n",
              "\n",
              "<style>\n",
              "  .colab-df-quickchart {\n",
              "      --bg-color: #E8F0FE;\n",
              "      --fill-color: #1967D2;\n",
              "      --hover-bg-color: #E2EBFA;\n",
              "      --hover-fill-color: #174EA6;\n",
              "      --disabled-fill-color: #AAA;\n",
              "      --disabled-bg-color: #DDD;\n",
              "  }\n",
              "\n",
              "  [theme=dark] .colab-df-quickchart {\n",
              "      --bg-color: #3B4455;\n",
              "      --fill-color: #D2E3FC;\n",
              "      --hover-bg-color: #434B5C;\n",
              "      --hover-fill-color: #FFFFFF;\n",
              "      --disabled-bg-color: #3B4455;\n",
              "      --disabled-fill-color: #666;\n",
              "  }\n",
              "\n",
              "  .colab-df-quickchart {\n",
              "    background-color: var(--bg-color);\n",
              "    border: none;\n",
              "    border-radius: 50%;\n",
              "    cursor: pointer;\n",
              "    display: none;\n",
              "    fill: var(--fill-color);\n",
              "    height: 32px;\n",
              "    padding: 0;\n",
              "    width: 32px;\n",
              "  }\n",
              "\n",
              "  .colab-df-quickchart:hover {\n",
              "    background-color: var(--hover-bg-color);\n",
              "    box-shadow: 0 1px 2px rgba(60, 64, 67, 0.3), 0 1px 3px 1px rgba(60, 64, 67, 0.15);\n",
              "    fill: var(--button-hover-fill-color);\n",
              "  }\n",
              "\n",
              "  .colab-df-quickchart-complete:disabled,\n",
              "  .colab-df-quickchart-complete:disabled:hover {\n",
              "    background-color: var(--disabled-bg-color);\n",
              "    fill: var(--disabled-fill-color);\n",
              "    box-shadow: none;\n",
              "  }\n",
              "\n",
              "  .colab-df-spinner {\n",
              "    border: 2px solid var(--fill-color);\n",
              "    border-color: transparent;\n",
              "    border-bottom-color: var(--fill-color);\n",
              "    animation:\n",
              "      spin 1s steps(1) infinite;\n",
              "  }\n",
              "\n",
              "  @keyframes spin {\n",
              "    0% {\n",
              "      border-color: transparent;\n",
              "      border-bottom-color: var(--fill-color);\n",
              "      border-left-color: var(--fill-color);\n",
              "    }\n",
              "    20% {\n",
              "      border-color: transparent;\n",
              "      border-left-color: var(--fill-color);\n",
              "      border-top-color: var(--fill-color);\n",
              "    }\n",
              "    30% {\n",
              "      border-color: transparent;\n",
              "      border-left-color: var(--fill-color);\n",
              "      border-top-color: var(--fill-color);\n",
              "      border-right-color: var(--fill-color);\n",
              "    }\n",
              "    40% {\n",
              "      border-color: transparent;\n",
              "      border-right-color: var(--fill-color);\n",
              "      border-top-color: var(--fill-color);\n",
              "    }\n",
              "    60% {\n",
              "      border-color: transparent;\n",
              "      border-right-color: var(--fill-color);\n",
              "    }\n",
              "    80% {\n",
              "      border-color: transparent;\n",
              "      border-right-color: var(--fill-color);\n",
              "      border-bottom-color: var(--fill-color);\n",
              "    }\n",
              "    90% {\n",
              "      border-color: transparent;\n",
              "      border-bottom-color: var(--fill-color);\n",
              "    }\n",
              "  }\n",
              "</style>\n",
              "\n",
              "      <script>\n",
              "        async function quickchart(key) {\n",
              "          const quickchartButtonEl =\n",
              "            document.querySelector('#' + key + ' button');\n",
              "          quickchartButtonEl.disabled = true;  // To prevent multiple clicks.\n",
              "          quickchartButtonEl.classList.add('colab-df-spinner');\n",
              "          try {\n",
              "            const charts = await google.colab.kernel.invokeFunction(\n",
              "                'suggestCharts', [key], {});\n",
              "          } catch (error) {\n",
              "            console.error('Error during call to suggestCharts:', error);\n",
              "          }\n",
              "          quickchartButtonEl.classList.remove('colab-df-spinner');\n",
              "          quickchartButtonEl.classList.add('colab-df-quickchart-complete');\n",
              "        }\n",
              "        (() => {\n",
              "          let quickchartButtonEl =\n",
              "            document.querySelector('#df-d9fade3d-6800-49bd-8aee-2347ff574afc button');\n",
              "          quickchartButtonEl.style.display =\n",
              "            google.colab.kernel.accessAllowed ? 'block' : 'none';\n",
              "        })();\n",
              "      </script>\n",
              "    </div>\n",
              "\n",
              "    </div>\n",
              "  </div>\n"
            ],
            "application/vnd.google.colaboratory.intrinsic+json": {
              "type": "dataframe",
              "variable_name": "df",
              "summary": "{\n  \"name\": \"df\",\n  \"rows\": 10000,\n  \"fields\": [\n    {\n      \"column\": \"shipment_id\",\n      \"properties\": {\n        \"dtype\": \"string\",\n        \"num_unique_values\": 10000,\n        \"samples\": [\n          \"SHP16252\",\n          \"SHP14684\",\n          \"SHP11731\"\n        ],\n        \"semantic_type\": \"\",\n        \"description\": \"\"\n      }\n    },\n    {\n      \"column\": \"route_id\",\n      \"properties\": {\n        \"dtype\": \"category\",\n        \"num_unique_values\": 4,\n        \"samples\": [\n          \"RT03\",\n          \"RT01\",\n          \"RT02\"\n        ],\n        \"semantic_type\": \"\",\n        \"description\": \"\"\n      }\n    },\n    {\n      \"column\": \"date\",\n      \"properties\": {\n        \"dtype\": \"date\",\n        \"min\": \"1998-01-08 00:00:00\",\n        \"max\": \"2025-05-25 00:00:00\",\n        \"num_unique_values\": 10000,\n        \"samples\": [\n          \"2015-02-20 00:00:00\",\n          \"2010-11-05 00:00:00\",\n          \"2002-10-05 00:00:00\"\n        ],\n        \"semantic_type\": \"\",\n        \"description\": \"\"\n      }\n    },\n    {\n      \"column\": \"delay_minutes\",\n      \"properties\": {\n        \"dtype\": \"number\",\n        \"std\": 3,\n        \"min\": 1,\n        \"max\": 24,\n        \"num_unique_values\": 24,\n        \"samples\": [\n          6,\n          3,\n          12\n        ],\n        \"semantic_type\": \"\",\n        \"description\": \"\"\n      }\n    },\n    {\n      \"column\": \"cost_usd\",\n      \"properties\": {\n        \"dtype\": \"number\",\n        \"std\": 20.32391970417068,\n        \"min\": 30.01,\n        \"max\": 100.0,\n        \"num_unique_values\": 5343,\n        \"samples\": [\n          30.23,\n          62.37,\n          87.45\n        ],\n        \"semantic_type\": \"\",\n        \"description\": \"\"\n      }\n    },\n    {\n      \"column\": \"temp_c\",\n      \"properties\": {\n        \"dtype\": \"number\",\n        \"std\": 1.998785814831932,\n        \"min\": -2.9,\n        \"max\": 13.4,\n        \"num_unique_values\": 136,\n        \"samples\": [\n          9.2,\n          5.3,\n          4.8\n        ],\n        \"semantic_type\": \"\",\n        \"description\": \"\"\n      }\n    },\n    {\n      \"column\": \"status\",\n      \"properties\": {\n        \"dtype\": \"category\",\n        \"num_unique_values\": 3,\n        \"samples\": [\n          \"delivered\",\n          \"failed\",\n          \"in_transit\"\n        ],\n        \"semantic_type\": \"\",\n        \"description\": \"\"\n      }\n    },\n    {\n      \"column\": \"ano\",\n      \"properties\": {\n        \"dtype\": \"int32\",\n        \"num_unique_values\": 28,\n        \"samples\": [\n          2007,\n          2023,\n          2006\n        ],\n        \"semantic_type\": \"\",\n        \"description\": \"\"\n      }\n    },\n    {\n      \"column\": \"mes\",\n      \"properties\": {\n        \"dtype\": \"int32\",\n        \"num_unique_values\": 12,\n        \"samples\": [\n          11,\n          10,\n          1\n        ],\n        \"semantic_type\": \"\",\n        \"description\": \"\"\n      }\n    },\n    {\n      \"column\": \"dia\",\n      \"properties\": {\n        \"dtype\": \"int32\",\n        \"num_unique_values\": 31,\n        \"samples\": [\n          4,\n          23,\n          31\n        ],\n        \"semantic_type\": \"\",\n        \"description\": \"\"\n      }\n    },\n    {\n      \"column\": \"dia_semana\",\n      \"properties\": {\n        \"dtype\": \"category\",\n        \"num_unique_values\": 7,\n        \"samples\": [\n          \"Thursday\",\n          \"Friday\",\n          \"Tuesday\"\n        ],\n        \"semantic_type\": \"\",\n        \"description\": \"\"\n      }\n    },\n    {\n      \"column\": \"fim_de_semana\",\n      \"properties\": {\n        \"dtype\": \"boolean\",\n        \"num_unique_values\": 2,\n        \"samples\": [\n          true,\n          false\n        ],\n        \"semantic_type\": \"\",\n        \"description\": \"\"\n      }\n    },\n    {\n      \"column\": \"atraso_critico\",\n      \"properties\": {\n        \"dtype\": \"boolean\",\n        \"num_unique_values\": 2,\n        \"samples\": [\n          true,\n          false\n        ],\n        \"semantic_type\": \"\",\n        \"description\": \"\"\n      }\n    },\n    {\n      \"column\": \"custo_categoria\",\n      \"properties\": {\n        \"dtype\": \"category\",\n        \"num_unique_values\": 3,\n        \"samples\": [\n          \"baixo\",\n          \"alto\"\n        ],\n        \"semantic_type\": \"\",\n        \"description\": \"\"\n      }\n    }\n  ]\n}"
            }
          },
          "metadata": {},
          "execution_count": 2
        }
      ]
    },
    {
      "cell_type": "markdown",
      "source": [
        "✅ CÉLULA 3 – Seleção de features e target"
      ],
      "metadata": {
        "id": "VAQg9BWUG_WH"
      }
    },
    {
      "cell_type": "markdown",
      "source": [
        "#### 🧪 SELEÇÃO DE FEATURES E VARIÁVEL ALVO"
      ],
      "metadata": {
        "id": "YONURNL3HAgD"
      }
    },
    {
      "cell_type": "code",
      "source": [
        "# =============================================================\n",
        "# 🧪 SELEÇÃO DE FEATURES E VARIÁVEL ALVO\n",
        "# =============================================================\n",
        "\n",
        "# Convertendo a variável alvo para classificação\n",
        "df['status'] = df['status'].astype('category')\n",
        "\n",
        "# Selecionar features úteis\n",
        "features = [\n",
        "    'delay_minutes', 'cost_usd', 'temp_c',\n",
        "    'ano', 'mes', 'fim_de_semana', 'atraso_critico'\n",
        "]\n",
        "\n",
        "X = df[features]\n",
        "y = df['status']\n",
        "\n",
        "logger.info(f\"🎯 Target: status | Features: {features}\")\n"
      ],
      "metadata": {
        "id": "Oh7sRLufHEDI"
      },
      "execution_count": null,
      "outputs": []
    },
    {
      "cell_type": "markdown",
      "source": [
        "✅ CÉLULA 4 – Divisão treino/teste + Treinamento"
      ],
      "metadata": {
        "id": "hxKy8fo5HJUJ"
      }
    },
    {
      "cell_type": "markdown",
      "source": [
        "#### 🚂 TREINO E TESTE DO MODELO RANDOM FOREST"
      ],
      "metadata": {
        "id": "v43NEE0WHL9q"
      }
    },
    {
      "cell_type": "code",
      "source": [
        "# =============================================================\n",
        "# 🚂 TREINO E TESTE DO MODELO RANDOM FOREST\n",
        "# =============================================================\n",
        "\n",
        "# Divisão dos dados\n",
        "X_train, X_test, y_train, y_test = train_test_split(\n",
        "    X, y, test_size=0.2, random_state=42, stratify=y)\n",
        "\n",
        "# Modelo\n",
        "model = RandomForestClassifier(n_estimators=100, random_state=42)\n",
        "\n",
        "# Treinamento\n",
        "model.fit(X_train, y_train)\n",
        "\n",
        "logger.info(\"✅ Modelo treinado com sucesso.\")\n",
        "print(\"✅ Modelo treinado com RandomForestClassifier\")\n",
        "print(f\"🔢 Quantidade de árvores: {model.n_estimators}\")\n",
        "print(f\"📊 Features usadas: {X_train.columns.tolist()}\")\n",
        "\n"
      ],
      "metadata": {
        "colab": {
          "base_uri": "https://localhost:8080/"
        },
        "id": "pIwXq7vjHP11",
        "outputId": "ba398b4e-c72f-49b6-9479-f35297f86d43"
      },
      "execution_count": null,
      "outputs": [
        {
          "output_type": "stream",
          "name": "stdout",
          "text": [
            "✅ Modelo treinado com RandomForestClassifier\n",
            "🔢 Quantidade de árvores: 100\n",
            "📊 Features usadas: ['delay_minutes', 'cost_usd', 'temp_c', 'ano', 'mes', 'fim_de_semana', 'atraso_critico']\n"
          ]
        }
      ]
    },
    {
      "cell_type": "markdown",
      "source": [
        "CÉLULA 4.1"
      ],
      "metadata": {
        "id": "6LxFNTDAIFS9"
      }
    },
    {
      "cell_type": "markdown",
      "source": [
        "🔎 Importância das Features"
      ],
      "metadata": {
        "id": "GaZa9COGIOTf"
      }
    },
    {
      "cell_type": "code",
      "source": [
        "def plot_feature_importance(model, feature_names):\n",
        "    \"\"\"\n",
        "    Exibe gráfico de importância das features para modelos com .feature_importances_\n",
        "    \"\"\"\n",
        "    import matplotlib.pyplot as plt\n",
        "    import seaborn as sns\n",
        "\n",
        "    feature_importances = pd.Series(model.feature_importances_, index=feature_names)\n",
        "    feature_importances = feature_importances.sort_values(ascending=True)\n",
        "\n",
        "    plt.figure(figsize=(8, 5))\n",
        "    sns.barplot(x=feature_importances, y=feature_importances.index)\n",
        "    plt.title(\"🎯 Importância das Features\")\n",
        "    plt.xlabel(\"Importância\")\n",
        "    plt.ylabel(\"Features\")\n",
        "    plt.tight_layout()\n",
        "    plt.show()\n"
      ],
      "metadata": {
        "id": "PopvT6yGIRLn"
      },
      "execution_count": null,
      "outputs": []
    },
    {
      "cell_type": "code",
      "source": [
        "plot_feature_importance(model, X.columns)\n"
      ],
      "metadata": {
        "collapsed": true,
        "colab": {
          "base_uri": "https://localhost:8080/",
          "height": 595
        },
        "id": "DeDzt_9jIee_",
        "outputId": "38ad4f15-437d-4981-b3ae-bb8ee43d2948"
      },
      "execution_count": null,
      "outputs": [
        {
          "output_type": "stream",
          "name": "stderr",
          "text": [
            "<ipython-input-6-e8eec8d0b755>:16: UserWarning: Glyph 127919 (\\N{DIRECT HIT}) missing from font(s) DejaVu Sans.\n",
            "  plt.tight_layout()\n",
            "/usr/local/lib/python3.11/dist-packages/IPython/core/pylabtools.py:151: UserWarning: Glyph 127919 (\\N{DIRECT HIT}) missing from font(s) DejaVu Sans.\n",
            "  fig.canvas.print_figure(bytes_io, **kw)\n"
          ]
        },
        {
          "output_type": "display_data",
          "data": {
            "text/plain": [
              "<Figure size 800x500 with 1 Axes>"
            ],
            "image/png": "[encoded data removed]"
          },
          "metadata": {}
        }
      ]
    },
    {
      "cell_type": "markdown",
      "source": [
        "✅ CÉLULA 5 – Avaliação do Modelo"
      ],
      "metadata": {
        "id": "LCejJbhWInFv"
      }
    },
    {
      "cell_type": "markdown",
      "source": [
        "#### 📊 AVALIAÇÃO DO DESEMPENHO DO MODELO"
      ],
      "metadata": {
        "id": "3H2z90mOIn-j"
      }
    },
    {
      "cell_type": "code",
      "source": [
        "# =============================================================\n",
        "# 📊 AVALIAÇÃO DO DESEMPENHO DO MODELO\n",
        "# =============================================================\n",
        "\n",
        "y_pred = model.predict(X_test)\n",
        "\n",
        "print(\"🔍 Classification Report:\")\n",
        "print(classification_report(y_test, y_pred))\n",
        "\n",
        "print(\"📉 Confusion Matrix:\")\n",
        "print(confusion_matrix(y_test, y_pred))\n"
      ],
      "metadata": {
        "colab": {
          "base_uri": "https://localhost:8080/"
        },
        "id": "k6aHbokpIqrh",
        "outputId": "ca16d186-0b67-4758-c1e5-28d3e49dd6a2"
      },
      "execution_count": null,
      "outputs": [
        {
          "output_type": "stream",
          "name": "stdout",
          "text": [
            "🔍 Classification Report:\n",
            "              precision    recall  f1-score   support\n",
            "\n",
            "   delivered       0.70      0.98      0.82      1403\n",
            "      failed       0.40      0.01      0.02       195\n",
            "  in_transit       0.26      0.03      0.05       402\n",
            "\n",
            "    accuracy                           0.69      2000\n",
            "   macro avg       0.45      0.34      0.30      2000\n",
            "weighted avg       0.58      0.69      0.59      2000\n",
            "\n",
            "📉 Confusion Matrix:\n",
            "[[1375    2   26]\n",
            " [ 187    2    6]\n",
            " [ 390    1   11]]\n"
          ]
        }
      ]
    },
    {
      "cell_type": "markdown",
      "source": [
        "✅ CÉLULA FINAL – Exportação do modelo"
      ],
      "metadata": {
        "id": "2BQDixx2Ix6H"
      }
    },
    {
      "cell_type": "markdown",
      "source": [
        "#### 💾 EXPORTAR MODELO TREINADO (.pkl)"
      ],
      "metadata": {
        "id": "aZ__iJumIy91"
      }
    },
    {
      "cell_type": "code",
      "source": [
        "# =============================================================\n",
        "# 💾 EXPORTAR MODELO TREINADO (.pkl)\n",
        "# =============================================================\n",
        "\n",
        "model_path = \"/content/dataflow_modelo_status.pkl\"\n",
        "joblib.dump(model, model_path)\n",
        "logger.info(f\"🧠 Modelo salvo em: {model_path}\")\n"
      ],
      "metadata": {
        "id": "5AKYC4jwI14j"
      },
      "execution_count": null,
      "outputs": []
    },
    {
      "cell_type": "markdown",
      "source": [
        "✅ Markdown Final"
      ],
      "metadata": {
        "id": "Y3SZ2W81I40j"
      }
    },
    {
      "cell_type": "markdown",
      "source": [
        "#### ✅ Etapa Concluída – Consumo de Dados por ML\n",
        "\n",
        "Neste notebook, realizamos:\n",
        "- Leitura dos dados transformados\n",
        "- Seleção de variáveis relevantes para ML\n",
        "- Treinamento de modelo leve (`RandomForestClassifier`)\n",
        "- Avaliação com métricas interpretáveis\n",
        "- Exportação do modelo treinado para reutilização\n",
        "\n",
        "📤 Saída:\n",
        "- `dataflow_modelo_status.pkl` – modelo pronto para inferência\n"
      ],
      "metadata": {
        "id": "LNUpHHdqI8aG"
      }
    }
  ]
}